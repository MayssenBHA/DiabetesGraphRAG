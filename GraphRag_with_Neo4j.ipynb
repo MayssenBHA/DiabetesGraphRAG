{
  "nbformat": 4,
  "nbformat_minor": 0,
  "metadata": {
    "colab": {
      "provenance": [],
      "include_colab_link": true
    },
    "kernelspec": {
      "name": "python3",
      "display_name": "Python 3"
    },
    "language_info": {
      "name": "python"
    }
  },
  "cells": [
    {
      "cell_type": "markdown",
      "metadata": {
        "id": "view-in-github",
        "colab_type": "text"
      },
      "source": [
        "<a href=\"https://colab.research.google.com/github/MayssenBHA/DiabetesGraphRAG/blob/main/GraphRag_with_Neo4j.ipynb\" target=\"_parent\"><img src=\"https://colab.research.google.com/assets/colab-badge.svg\" alt=\"Open In Colab\"/></a>"
      ]
    },
    {
      "cell_type": "markdown",
      "source": [
        "# 🧠 GraphRAG Medical Knowledge Explorer with Neo4j\n",
        "This notebook extracts structured medical information from a knowledge graph using entity-aware question answering powered by LLMs and Neo4j.\n"
      ],
      "metadata": {
        "id": "Ru5BxGhgX381"
      }
    },
    {
      "cell_type": "code",
      "execution_count": 91,
      "metadata": {
        "id": "hcWUfnPqvDt2"
      },
      "outputs": [],
      "source": [
        "%pip install --upgrade --quiet langchain langchain-community langchain-openai langchain-experimental neo4j wikipedia tiktoken"
      ]
    },
    {
      "cell_type": "code",
      "source": [
        "from google.colab import userdata\n",
        "GROQ_API_KEY = userdata.get('GROQ_API_KEY')"
      ],
      "metadata": {
        "id": "SsfoR8x81YhT"
      },
      "execution_count": 92,
      "outputs": []
    },
    {
      "cell_type": "code",
      "source": [
        "NEO4J_URI=\"neo4j+s://c0f6539c.databases.neo4j.io\"\n",
        "NEO4J_USERNAME=\"neo4j\"\n",
        "NEO4J_PASSWORD=\"0fkH2ShmShRzTlA0MurBRuFPOb3kwYv8g5LndHdZbAw\"\n",
        "NEO4J_DATABASE=\"neo4j\"\n",
        "AURA_INSTANCEID=\"c0f6539c\"\n",
        "AURA_INSTANCENAME=\"Instance01\""
      ],
      "metadata": {
        "id": "hXkNnJqu2EfY"
      },
      "execution_count": 93,
      "outputs": []
    },
    {
      "cell_type": "code",
      "source": [
        "import os"
      ],
      "metadata": {
        "id": "FE6FKq11pMJO"
      },
      "execution_count": 94,
      "outputs": []
    },
    {
      "cell_type": "code",
      "source": [
        "os.environ[\"GROQ_API_KEY\"] = GROQ_API_KEY\n",
        "os.environ[\"NEO4J_URI\"] = NEO4J_URI\n",
        "os.environ[\"NEO4J_USERNAME\"] = NEO4J_USERNAME\n",
        "os.environ[\"NEO4J_PASSWORD\"] = NEO4J_PASSWORD"
      ],
      "metadata": {
        "id": "tyjOD9nopNyZ"
      },
      "execution_count": 95,
      "outputs": []
    },
    {
      "cell_type": "code",
      "source": [
        "from langchain_community.graphs import Neo4jGraph"
      ],
      "metadata": {
        "id": "pnyDZT_Q2D8X"
      },
      "execution_count": 96,
      "outputs": []
    },
    {
      "cell_type": "code",
      "source": [
        "graph = Neo4jGraph()"
      ],
      "metadata": {
        "id": "n2lEh7eB4MPV"
      },
      "execution_count": 97,
      "outputs": []
    },
    {
      "cell_type": "code",
      "source": [
        "!pip install wikipedia"
      ],
      "metadata": {
        "id": "EhNwwtC04rnV",
        "colab": {
          "base_uri": "https://localhost:8080/"
        },
        "outputId": "7151721e-e67b-4f6a-8163-c5019340a805"
      },
      "execution_count": 98,
      "outputs": [
        {
          "output_type": "stream",
          "name": "stdout",
          "text": [
            "Requirement already satisfied: wikipedia in /usr/local/lib/python3.11/dist-packages (1.4.0)\n",
            "Requirement already satisfied: beautifulsoup4 in /usr/local/lib/python3.11/dist-packages (from wikipedia) (4.13.4)\n",
            "Requirement already satisfied: requests<3.0.0,>=2.0.0 in /usr/local/lib/python3.11/dist-packages (from wikipedia) (2.32.3)\n",
            "Requirement already satisfied: charset-normalizer<4,>=2 in /usr/local/lib/python3.11/dist-packages (from requests<3.0.0,>=2.0.0->wikipedia) (3.4.2)\n",
            "Requirement already satisfied: idna<4,>=2.5 in /usr/local/lib/python3.11/dist-packages (from requests<3.0.0,>=2.0.0->wikipedia) (3.10)\n",
            "Requirement already satisfied: urllib3<3,>=1.21.1 in /usr/local/lib/python3.11/dist-packages (from requests<3.0.0,>=2.0.0->wikipedia) (2.4.0)\n",
            "Requirement already satisfied: certifi>=2017.4.17 in /usr/local/lib/python3.11/dist-packages (from requests<3.0.0,>=2.0.0->wikipedia) (2025.6.15)\n",
            "Requirement already satisfied: soupsieve>1.2 in /usr/local/lib/python3.11/dist-packages (from beautifulsoup4->wikipedia) (2.7)\n",
            "Requirement already satisfied: typing-extensions>=4.0.0 in /usr/local/lib/python3.11/dist-packages (from beautifulsoup4->wikipedia) (4.14.0)\n"
          ]
        }
      ]
    },
    {
      "cell_type": "code",
      "source": [
        "from langchain.document_loaders import WikipediaLoader"
      ],
      "metadata": {
        "id": "Vhy60C_94QbT"
      },
      "execution_count": 99,
      "outputs": []
    },
    {
      "cell_type": "code",
      "source": [
        "raw_document = WikipediaLoader(query='Diabetes').load()"
      ],
      "metadata": {
        "id": "h-IsdHIH4XDK",
        "colab": {
          "base_uri": "https://localhost:8080/"
        },
        "outputId": "75cbd665-941f-422a-dde3-90feee92cf6d"
      },
      "execution_count": 100,
      "outputs": [
        {
          "output_type": "stream",
          "name": "stderr",
          "text": [
            "/usr/local/lib/python3.11/dist-packages/wikipedia/wikipedia.py:389: GuessedAtParserWarning: No parser was explicitly specified, so I'm using the best available HTML parser for this system (\"lxml\"). This usually isn't a problem, but if you run this code on another system, or in a different virtual environment, it may use a different parser and behave differently.\n",
            "\n",
            "The code that caused this warning is on line 389 of the file /usr/local/lib/python3.11/dist-packages/wikipedia/wikipedia.py. To get rid of this warning, pass the additional argument 'features=\"lxml\"' to the BeautifulSoup constructor.\n",
            "\n",
            "  lis = BeautifulSoup(html).find_all('li')\n"
          ]
        }
      ]
    },
    {
      "cell_type": "code",
      "source": [
        "raw_document[0].page_content[:100]"
      ],
      "metadata": {
        "id": "9GCBaCgOAui6",
        "colab": {
          "base_uri": "https://localhost:8080/",
          "height": 36
        },
        "outputId": "47dba71a-fd52-496d-eb69-85cd1da1fcff"
      },
      "execution_count": 101,
      "outputs": [
        {
          "output_type": "execute_result",
          "data": {
            "text/plain": [
              "'Diabetes mellitus, commonly known as diabetes, is a group of common endocrine diseases characterized'"
            ],
            "application/vnd.google.colaboratory.intrinsic+json": {
              "type": "string"
            }
          },
          "metadata": {},
          "execution_count": 101
        }
      ]
    },
    {
      "cell_type": "code",
      "source": [
        "from langchain.text_splitter import TokenTextSplitter\n",
        "text_splitter = TokenTextSplitter(chunk_size=512, chunk_overlap=24)\n",
        "documents = text_splitter.split_documents(raw_document[:3])"
      ],
      "metadata": {
        "id": "z0eGJq2E4gI8"
      },
      "execution_count": 102,
      "outputs": []
    },
    {
      "cell_type": "code",
      "source": [
        "!pip install langchain-groq\n"
      ],
      "metadata": {
        "colab": {
          "base_uri": "https://localhost:8080/"
        },
        "id": "iLHbKbLYs7my",
        "outputId": "fbbd7f10-9582-43f2-8cd4-dffe267de93e"
      },
      "execution_count": 103,
      "outputs": [
        {
          "output_type": "stream",
          "name": "stdout",
          "text": [
            "Requirement already satisfied: langchain-groq in /usr/local/lib/python3.11/dist-packages (0.3.4)\n",
            "Requirement already satisfied: langchain-core<1.0.0,>=0.3.66 in /usr/local/lib/python3.11/dist-packages (from langchain-groq) (0.3.66)\n",
            "Requirement already satisfied: groq<1,>=0.28.0 in /usr/local/lib/python3.11/dist-packages (from langchain-groq) (0.29.0)\n",
            "Requirement already satisfied: anyio<5,>=3.5.0 in /usr/local/lib/python3.11/dist-packages (from groq<1,>=0.28.0->langchain-groq) (4.9.0)\n",
            "Requirement already satisfied: distro<2,>=1.7.0 in /usr/local/lib/python3.11/dist-packages (from groq<1,>=0.28.0->langchain-groq) (1.9.0)\n",
            "Requirement already satisfied: httpx<1,>=0.23.0 in /usr/local/lib/python3.11/dist-packages (from groq<1,>=0.28.0->langchain-groq) (0.28.1)\n",
            "Requirement already satisfied: pydantic<3,>=1.9.0 in /usr/local/lib/python3.11/dist-packages (from groq<1,>=0.28.0->langchain-groq) (2.11.7)\n",
            "Requirement already satisfied: sniffio in /usr/local/lib/python3.11/dist-packages (from groq<1,>=0.28.0->langchain-groq) (1.3.1)\n",
            "Requirement already satisfied: typing-extensions<5,>=4.10 in /usr/local/lib/python3.11/dist-packages (from groq<1,>=0.28.0->langchain-groq) (4.14.0)\n",
            "Requirement already satisfied: langsmith>=0.3.45 in /usr/local/lib/python3.11/dist-packages (from langchain-core<1.0.0,>=0.3.66->langchain-groq) (0.4.1)\n",
            "Requirement already satisfied: tenacity!=8.4.0,<10.0.0,>=8.1.0 in /usr/local/lib/python3.11/dist-packages (from langchain-core<1.0.0,>=0.3.66->langchain-groq) (8.5.0)\n",
            "Requirement already satisfied: jsonpatch<2.0,>=1.33 in /usr/local/lib/python3.11/dist-packages (from langchain-core<1.0.0,>=0.3.66->langchain-groq) (1.33)\n",
            "Requirement already satisfied: PyYAML>=5.3 in /usr/local/lib/python3.11/dist-packages (from langchain-core<1.0.0,>=0.3.66->langchain-groq) (6.0.2)\n",
            "Requirement already satisfied: packaging<25,>=23.2 in /usr/local/lib/python3.11/dist-packages (from langchain-core<1.0.0,>=0.3.66->langchain-groq) (24.2)\n",
            "Requirement already satisfied: idna>=2.8 in /usr/local/lib/python3.11/dist-packages (from anyio<5,>=3.5.0->groq<1,>=0.28.0->langchain-groq) (3.10)\n",
            "Requirement already satisfied: certifi in /usr/local/lib/python3.11/dist-packages (from httpx<1,>=0.23.0->groq<1,>=0.28.0->langchain-groq) (2025.6.15)\n",
            "Requirement already satisfied: httpcore==1.* in /usr/local/lib/python3.11/dist-packages (from httpx<1,>=0.23.0->groq<1,>=0.28.0->langchain-groq) (1.0.9)\n",
            "Requirement already satisfied: h11>=0.16 in /usr/local/lib/python3.11/dist-packages (from httpcore==1.*->httpx<1,>=0.23.0->groq<1,>=0.28.0->langchain-groq) (0.16.0)\n",
            "Requirement already satisfied: jsonpointer>=1.9 in /usr/local/lib/python3.11/dist-packages (from jsonpatch<2.0,>=1.33->langchain-core<1.0.0,>=0.3.66->langchain-groq) (3.0.0)\n",
            "Requirement already satisfied: orjson<4.0.0,>=3.9.14 in /usr/local/lib/python3.11/dist-packages (from langsmith>=0.3.45->langchain-core<1.0.0,>=0.3.66->langchain-groq) (3.10.18)\n",
            "Requirement already satisfied: requests<3,>=2 in /usr/local/lib/python3.11/dist-packages (from langsmith>=0.3.45->langchain-core<1.0.0,>=0.3.66->langchain-groq) (2.32.3)\n",
            "Requirement already satisfied: requests-toolbelt<2.0.0,>=1.0.0 in /usr/local/lib/python3.11/dist-packages (from langsmith>=0.3.45->langchain-core<1.0.0,>=0.3.66->langchain-groq) (1.0.0)\n",
            "Requirement already satisfied: zstandard<0.24.0,>=0.23.0 in /usr/local/lib/python3.11/dist-packages (from langsmith>=0.3.45->langchain-core<1.0.0,>=0.3.66->langchain-groq) (0.23.0)\n",
            "Requirement already satisfied: annotated-types>=0.6.0 in /usr/local/lib/python3.11/dist-packages (from pydantic<3,>=1.9.0->groq<1,>=0.28.0->langchain-groq) (0.7.0)\n",
            "Requirement already satisfied: pydantic-core==2.33.2 in /usr/local/lib/python3.11/dist-packages (from pydantic<3,>=1.9.0->groq<1,>=0.28.0->langchain-groq) (2.33.2)\n",
            "Requirement already satisfied: typing-inspection>=0.4.0 in /usr/local/lib/python3.11/dist-packages (from pydantic<3,>=1.9.0->groq<1,>=0.28.0->langchain-groq) (0.4.1)\n",
            "Requirement already satisfied: charset-normalizer<4,>=2 in /usr/local/lib/python3.11/dist-packages (from requests<3,>=2->langsmith>=0.3.45->langchain-core<1.0.0,>=0.3.66->langchain-groq) (3.4.2)\n",
            "Requirement already satisfied: urllib3<3,>=1.21.1 in /usr/local/lib/python3.11/dist-packages (from requests<3,>=2->langsmith>=0.3.45->langchain-core<1.0.0,>=0.3.66->langchain-groq) (2.4.0)\n"
          ]
        }
      ]
    },
    {
      "cell_type": "code",
      "source": [
        "from langchain_groq import ChatGroq\n",
        "\n",
        "llm = ChatGroq(\n",
        "    groq_api_key=os.environ[\"GROQ_API_KEY\"],\n",
        "    model_name=\"llama3-8b-8192\",\n",
        "    temperature=0\n",
        ")\n"
      ],
      "metadata": {
        "id": "4LXHnhizAlOI"
      },
      "execution_count": 104,
      "outputs": []
    },
    {
      "cell_type": "code",
      "source": [
        "from langchain_experimental.graph_transformers import LLMGraphTransformer\n",
        "llm_transformer = LLMGraphTransformer(\n",
        "    llm=llm\n",
        ")"
      ],
      "metadata": {
        "id": "yD3mF13dEh8h"
      },
      "execution_count": 105,
      "outputs": []
    },
    {
      "cell_type": "code",
      "source": [
        "graph_documents = llm_transformer.convert_to_graph_documents(documents)"
      ],
      "metadata": {
        "id": "yWDlrJfYE11T"
      },
      "execution_count": 106,
      "outputs": []
    },
    {
      "cell_type": "code",
      "source": [
        "graph_documents"
      ],
      "metadata": {
        "id": "TD5RjBOjFBDD",
        "colab": {
          "base_uri": "https://localhost:8080/"
        },
        "outputId": "bca16de8-595a-4d38-a9c5-20cfb01d50f6"
      },
      "execution_count": 107,
      "outputs": [
        {
          "output_type": "execute_result",
          "data": {
            "text/plain": [
              "[GraphDocument(nodes=[Node(id='Diabetes Mellitus', type='Person', properties={}), Node(id='Insulin', type='Hormone', properties={}), Node(id='Pancreas', type='Organ', properties={}), Node(id='Beta Cells', type='Cell', properties={}), Node(id='Cardiovascular System', type='System', properties={}), Node(id='Eye', type='Organ', properties={}), Node(id='Kidney', type='Organ', properties={}), Node(id='Nerves', type='Organ', properties={})], relationships=[Relationship(source=Node(id='Diabetes Mellitus', type='Person', properties={}), target=Node(id='Insulin', type='Hormone', properties={}), type='PRODUCES', properties={}), Relationship(source=Node(id='Pancreas', type='Organ', properties={}), target=Node(id='Beta Cells', type='Cell', properties={}), type='CONTAINS', properties={}), Relationship(source=Node(id='Diabetes Mellitus', type='Person', properties={}), target=Node(id='Cardiovascular System', type='System', properties={}), type='AFFECTS', properties={}), Relationship(source=Node(id='Diabetes Mellitus', type='Person', properties={}), target=Node(id='Eye', type='Organ', properties={}), type='AFFECTS', properties={}), Relationship(source=Node(id='Diabetes Mellitus', type='Person', properties={}), target=Node(id='Kidney', type='Organ', properties={}), type='AFFECTS', properties={}), Relationship(source=Node(id='Diabetes Mellitus', type='Person', properties={}), target=Node(id='Nerves', type='Organ', properties={}), type='AFFECTS', properties={})], source=Document(metadata={'title': 'Diabetes', 'summary': \"Diabetes mellitus, commonly known as diabetes, is a group of common endocrine diseases characterized by sustained high blood sugar levels. Diabetes is due to either the pancreas not producing enough of the hormone insulin, or the cells of the body becoming unresponsive to insulin's effects. Classic symptoms include the three P's: polydipsia (excessive thirst), polyuria (excessive urination), polyphagia (excessive hunger), weight loss, and blurred vision. If left untreated, the disease can lead to various health complications, including disorders of the cardiovascular system, eye, kidney, and nerves. Diabetes accounts for approximately 4.2 million deaths every year, with an estimated 1.5 million caused by either untreated or poorly treated diabetes.\\nThe major types of diabetes are type 1 and type 2. The most common treatment for type 1 is insulin replacement therapy (insulin injections), while anti-diabetic medications (such as metformin and semaglutide) and lifestyle modifications can be used to manage type 2. Gestational diabetes, a form that sometimes arises during pregnancy, normally resolves shortly after delivery. Type 1 diabetes is an autoimmune condition where the body's immune system attacks the beta cells in the pancreas, preventing the production of insulin. This condition is typically present from birth or develops early in life. Type 2 diabetes occurs when the body becomes resistant to insulin, meaning the cells do not respond effectively to it, and thus, glucose remains in the bloodstream instead of being absorbed by the cells. Additionally, diabetes can also result from other specific causes, such as genetic conditions (monogenic diabetes syndromes like neonatal diabetes and maturity-onset diabetes of the young), diseases affecting the pancreas (such as pancreatitis), or the use of certain medications and chemicals (such as glucocorticoids, other specific drugs and after organ transplantation).\\nThe number of people diagnosed as living with diabetes has increased sharply in recent decades, from 200 million in 1990 to 830 million by 2022. It affects one in seven of the adult population, with type 2 diabetes accounting for more than 95% of cases. These numbers have already risen beyond earlier projections of 783 million adults by 2045. The prevalence of the disease continues to increase, most dramatically in low- and middle-income nations. Rates are similar in women and men, with diabetes being the seventh leading cause of death globally. The global expenditure on diabetes-related healthcare is an estimated US$760 billion a year.\", 'source': 'https://en.wikipedia.org/wiki/Diabetes'}, page_content=\"Diabetes mellitus, commonly known as diabetes, is a group of common endocrine diseases characterized by sustained high blood sugar levels. Diabetes is due to either the pancreas not producing enough of the hormone insulin, or the cells of the body becoming unresponsive to insulin's effects. Classic symptoms include the three P's: polydipsia (excessive thirst), polyuria (excessive urination), polyphagia (excessive hunger), weight loss, and blurred vision. If left untreated, the disease can lead to various health complications, including disorders of the cardiovascular system, eye, kidney, and nerves. Diabetes accounts for approximately 4.2 million deaths every year, with an estimated 1.5 million caused by either untreated or poorly treated diabetes.\\nThe major types of diabetes are type 1 and type 2. The most common treatment for type 1 is insulin replacement therapy (insulin injections), while anti-diabetic medications (such as metformin and semaglutide) and lifestyle modifications can be used to manage type 2. Gestational diabetes, a form that sometimes arises during pregnancy, normally resolves shortly after delivery. Type 1 diabetes is an autoimmune condition where the body's immune system attacks the beta cells in the pancreas, preventing the production of insulin. This condition is typically present from birth or develops early in life. Type 2 diabetes occurs when the body becomes resistant to insulin, meaning the cells do not respond effectively to it, and thus, glucose remains in the bloodstream instead of being absorbed by the cells. Additionally, diabetes can also result from other specific causes, such as genetic conditions (monogenic diabetes syndromes like neonatal diabetes and maturity-onset diabetes of the young), diseases affecting the pancreas (such as pancreatitis), or the use of certain medications and chemicals (such as glucocorticoids, other specific drugs and after organ transplantation).\\nThe number of people diagnosed as living with diabetes has increased sharply in recent decades, from 200 million in 1990 to 830 million by 2022. It affects one in seven of the adult population, with type 2 diabetes accounting for more than 95% of cases. These numbers have already risen beyond earlier projections of 783 million adults by 2045. The prevalence of the disease continues to increase, most dramatically in low- and middle-income nations. Rates are similar in women and men, with diabetes being the seventh leading cause of death globally. The global expenditure on diabetes-related healthcare is an estimated US$760 billion a year.\\n\\n\\n\")),\n",
              " GraphDocument(nodes=[Node(id='Diabetes', type='Person', properties={}), Node(id='Type 1 Diabetes', type='Person', properties={}), Node(id='Type 2 Diabetes', type='Person', properties={})], relationships=[Relationship(source=Node(id='Diabetes', type='Person', properties={}), target=Node(id='Type 1 Diabetes', type='Person', properties={}), type='PROFESSOR', properties={}), Relationship(source=Node(id='Diabetes', type='Person', properties={}), target=Node(id='Type 2 Diabetes', type='Person', properties={}), type='PROFESSOR', properties={}), Relationship(source=Node(id='Type 1 Diabetes', type='Person', properties={}), target=Node(id='Diabetic Ketoacidosis', type='Condition', properties={}), type='CAUSES', properties={}), Relationship(source=Node(id='Type 2 Diabetes', type='Person', properties={}), target=Node(id='Diabetic Ketoacidosis', type='Condition', properties={}), type='CAUSES', properties={}), Relationship(source=Node(id='Diabetes', type='Person', properties={}), target=Node(id='Hypoglycemia', type='Condition', properties={}), type='CAUSES', properties={})], source=Document(metadata={'title': 'Diabetes', 'summary': \"Diabetes mellitus, commonly known as diabetes, is a group of common endocrine diseases characterized by sustained high blood sugar levels. Diabetes is due to either the pancreas not producing enough of the hormone insulin, or the cells of the body becoming unresponsive to insulin's effects. Classic symptoms include the three P's: polydipsia (excessive thirst), polyuria (excessive urination), polyphagia (excessive hunger), weight loss, and blurred vision. If left untreated, the disease can lead to various health complications, including disorders of the cardiovascular system, eye, kidney, and nerves. Diabetes accounts for approximately 4.2 million deaths every year, with an estimated 1.5 million caused by either untreated or poorly treated diabetes.\\nThe major types of diabetes are type 1 and type 2. The most common treatment for type 1 is insulin replacement therapy (insulin injections), while anti-diabetic medications (such as metformin and semaglutide) and lifestyle modifications can be used to manage type 2. Gestational diabetes, a form that sometimes arises during pregnancy, normally resolves shortly after delivery. Type 1 diabetes is an autoimmune condition where the body's immune system attacks the beta cells in the pancreas, preventing the production of insulin. This condition is typically present from birth or develops early in life. Type 2 diabetes occurs when the body becomes resistant to insulin, meaning the cells do not respond effectively to it, and thus, glucose remains in the bloodstream instead of being absorbed by the cells. Additionally, diabetes can also result from other specific causes, such as genetic conditions (monogenic diabetes syndromes like neonatal diabetes and maturity-onset diabetes of the young), diseases affecting the pancreas (such as pancreatitis), or the use of certain medications and chemicals (such as glucocorticoids, other specific drugs and after organ transplantation).\\nThe number of people diagnosed as living with diabetes has increased sharply in recent decades, from 200 million in 1990 to 830 million by 2022. It affects one in seven of the adult population, with type 2 diabetes accounting for more than 95% of cases. These numbers have already risen beyond earlier projections of 783 million adults by 2045. The prevalence of the disease continues to increase, most dramatically in low- and middle-income nations. Rates are similar in women and men, with diabetes being the seventh leading cause of death globally. The global expenditure on diabetes-related healthcare is an estimated US$760 billion a year.\", 'source': 'https://en.wikipedia.org/wiki/Diabetes'}, page_content=' of death globally. The global expenditure on diabetes-related healthcare is an estimated US$760 billion a year.\\n\\n\\n== Signs and symptoms ==\\n Common symptoms of diabetes include increased thirst, frequent urination, extreme hunger, and unintended weight loss. Several other non-specific signs and symptoms may also occur, including fatigue, blurred vision, sweet smelling urine/semen and genital itchiness due to Candida infection. About half of affected individuals may also be asymptomatic. Type 1 presents abruptly following a pre-clinical phase, while type 2 has a more insidious onset; patients may remain asymptomatic for many years.\\nDiabetic ketoacidosis is a medical emergency that occurs most commonly in type 1, but may also occur in type 2 if it has been longstanding or if the individual has significant β-cell dysfunction. Excessive production of ketone bodies leads to signs and symptoms including nausea, vomiting, abdominal pain, the smell of acetone in the breath, deep breathing known as Kussmaul breathing, and in severe cases decreased level of consciousness. Hyperosmolar hyperglycemic state is another emergency characterized by dehydration secondary to severe hyperglycemia, with resultant hypernatremia leading to an altered mental state and possibly coma.\\nHypoglycemia is a recognized complication of insulin treatment used in diabetes. An acute presentation can include mild symptoms such as sweating, trembling, and palpitations, to more serious effects including impaired cognition, confusion, seizu')),\n",
              " GraphDocument(nodes=[Node(id='Type 1 Diabetes Mellitus', type='Person', properties={}), Node(id='Beta Cells', type='Cell', properties={}), Node(id='Insulin', type='Hormone', properties={}), Node(id='Pancreas', type='Organ', properties={})], relationships=[Relationship(source=Node(id='Type 1 Diabetes Mellitus', type='Person', properties={}), target=Node(id='Beta Cells', type='Cell', properties={}), type='PRODUCES', properties={}), Relationship(source=Node(id='Beta Cells', type='Cell', properties={}), target=Node(id='Insulin', type='Hormone', properties={}), type='PRODUCES', properties={}), Relationship(source=Node(id='Insulin', type='Hormone', properties={}), target=Node(id='Pancreas', type='Organ', properties={}), type='PRODUCES', properties={})], source=Document(metadata={'title': 'Type 1 diabetes', 'summary': \"Type 1 diabetes mellitus, commonly known as type 1 diabetes (T1D), and formerly known as juvenile diabetes, is an autoimmune disease that occurs when the body's immune system destroys pancreatic cells (beta cells). In healthy persons, beta cells produce insulin. Insulin is a hormone required by the body to store and convert blood sugar into energy. T1D results in high blood sugar levels in the body prior to treatment. Common symptoms include frequent urination, increased thirst, increased hunger, weight loss, and other complications. Additional symptoms may include blurry vision, tiredness, and slow wound healing (owing to impaired blood flow). While some cases take longer, symptoms usually appear within weeks or a few months.\\nThe cause of type 1 diabetes is not completely understood, but it is believed to involve a combination of genetic and environmental factors. The underlying mechanism involves an autoimmune destruction of the insulin-producing beta cells in the pancreas. Diabetes is diagnosed by testing the level of sugar or glycated hemoglobin (HbA1C) in the blood.\\nType 1 diabetes can typically be distinguished from type 2 by testing for the presence of autoantibodies and/or declining levels/absence of C-peptide.\\nThere is no known way to prevent type 1 diabetes. Treatment with insulin is required for survival. Insulin therapy is usually given by injection just under the skin but can also be delivered by an insulin pump. A diabetic diet, exercise, and lifestyle modifications are considered cornerstones of management. If left untreated, diabetes can cause many complications. Complications of relatively rapid onset include diabetic ketoacidosis and nonketotic hyperosmolar coma. Long-term complications include heart disease, stroke, kidney failure, foot ulcers, and damage to the eyes. Furthermore, since insulin lowers blood sugar levels, complications may arise from low blood sugar if more insulin is taken than necessary.\\nType 1 diabetes makes up an estimated 5–10% of all diabetes cases. The number of people affected globally is unknown, although it is estimated that about 80,000 children develop the disease each year. Within the United States the number of people affected is estimated to be one to three million. Rates of disease vary widely, with approximately one new case per 100,000 per year in East Asia and Latin America and around 30 new cases per 100,000 per year in Scandinavia and Kuwait. It typically begins in children and young adults but can begin at any age.\", 'source': 'https://en.wikipedia.org/wiki/Type_1_diabetes'}, page_content=\"Type 1 diabetes mellitus, commonly known as type 1 diabetes (T1D), and formerly known as juvenile diabetes, is an autoimmune disease that occurs when the body's immune system destroys pancreatic cells (beta cells). In healthy persons, beta cells produce insulin. Insulin is a hormone required by the body to store and convert blood sugar into energy. T1D results in high blood sugar levels in the body prior to treatment. Common symptoms include frequent urination, increased thirst, increased hunger, weight loss, and other complications. Additional symptoms may include blurry vision, tiredness, and slow wound healing (owing to impaired blood flow). While some cases take longer, symptoms usually appear within weeks or a few months.\\nThe cause of type 1 diabetes is not completely understood, but it is believed to involve a combination of genetic and environmental factors. The underlying mechanism involves an autoimmune destruction of the insulin-producing beta cells in the pancreas. Diabetes is diagnosed by testing the level of sugar or glycated hemoglobin (HbA1C) in the blood.\\nType 1 diabetes can typically be distinguished from type 2 by testing for the presence of autoantibodies and/or declining levels/absence of C-peptide.\\nThere is no known way to prevent type 1 diabetes. Treatment with insulin is required for survival. Insulin therapy is usually given by injection just under the skin but can also be delivered by an insulin pump. A diabetic diet, exercise, and lifestyle modifications are considered cornerstones of management. If left untreated, diabetes can cause many complications. Complications of relatively rapid onset include diabetic ketoacidosis and nonketotic hyperosmolar coma. Long-term complications include heart disease, stroke, kidney failure, foot ulcers, and damage to the eyes. Furthermore, since insulin lowers blood sugar levels, complications may arise from low blood sugar if more insulin is taken than necessary.\\nType 1 diabetes makes up an estimated 5–10% of all diabetes cases. The number of people affected globally is unknown, although it is estimated that about 80,000 children develop the disease each year. Within the United States the number of people affected is estimated to be one to three million. Rates of disease vary widely, with approximately one new case per 100,000 per year in East Asia and Latin America and around 30 new cases per 100,000 per year in Scandinavia and Kuwait. It typically begins in children and young adults but can begin at any age.\\n\\n\\n== Signs and symptoms ==\\n\\n\")),\n",
              " GraphDocument(nodes=[Node(id='Type1Diabetes', type='Person', properties={}), Node(id='Children', type='Person', properties={}), Node(id='Youngadults', type='Person', properties={}), Node(id='Adults', type='Person', properties={})], relationships=[Relationship(source=Node(id='Type1Diabetes', type='Person', properties={}), target=Node(id='Children', type='Person', properties={}), type='PROTECTS', properties={}), Relationship(source=Node(id='Type1Diabetes', type='Person', properties={}), target=Node(id='Youngadults', type='Person', properties={}), type='PROTECTS', properties={}), Relationship(source=Node(id='Type1Diabetes', type='Person', properties={}), target=Node(id='Adults', type='Person', properties={}), type='PROTECTS', properties={})], source=Document(metadata={'title': 'Type 1 diabetes', 'summary': \"Type 1 diabetes mellitus, commonly known as type 1 diabetes (T1D), and formerly known as juvenile diabetes, is an autoimmune disease that occurs when the body's immune system destroys pancreatic cells (beta cells). In healthy persons, beta cells produce insulin. Insulin is a hormone required by the body to store and convert blood sugar into energy. T1D results in high blood sugar levels in the body prior to treatment. Common symptoms include frequent urination, increased thirst, increased hunger, weight loss, and other complications. Additional symptoms may include blurry vision, tiredness, and slow wound healing (owing to impaired blood flow). While some cases take longer, symptoms usually appear within weeks or a few months.\\nThe cause of type 1 diabetes is not completely understood, but it is believed to involve a combination of genetic and environmental factors. The underlying mechanism involves an autoimmune destruction of the insulin-producing beta cells in the pancreas. Diabetes is diagnosed by testing the level of sugar or glycated hemoglobin (HbA1C) in the blood.\\nType 1 diabetes can typically be distinguished from type 2 by testing for the presence of autoantibodies and/or declining levels/absence of C-peptide.\\nThere is no known way to prevent type 1 diabetes. Treatment with insulin is required for survival. Insulin therapy is usually given by injection just under the skin but can also be delivered by an insulin pump. A diabetic diet, exercise, and lifestyle modifications are considered cornerstones of management. If left untreated, diabetes can cause many complications. Complications of relatively rapid onset include diabetic ketoacidosis and nonketotic hyperosmolar coma. Long-term complications include heart disease, stroke, kidney failure, foot ulcers, and damage to the eyes. Furthermore, since insulin lowers blood sugar levels, complications may arise from low blood sugar if more insulin is taken than necessary.\\nType 1 diabetes makes up an estimated 5–10% of all diabetes cases. The number of people affected globally is unknown, although it is estimated that about 80,000 children develop the disease each year. Within the United States the number of people affected is estimated to be one to three million. Rates of disease vary widely, with approximately one new case per 100,000 per year in East Asia and Latin America and around 30 new cases per 100,000 per year in Scandinavia and Kuwait. It typically begins in children and young adults but can begin at any age.\", 'source': 'https://en.wikipedia.org/wiki/Type_1_diabetes'}, page_content=' It typically begins in children and young adults but can begin at any age.\\n\\n\\n== Signs and symptoms ==\\n\\nType 1 diabetes can develop at any age, with a peak in onsets during childhood and adolescence. Adult onsets on the other hand are often initially misdiagnosed as type 2. The major sign of type 1 diabetes is very high blood sugar, which typically manifests in children as a few days to weeks of polyuria (increased urination), polydipsia (increased thirst), and weight loss after being exposed to a triggering factor including infections, strenuous exercise, dehydration. Children may also experience increased appetite, blurred vision, bedwetting, recurrent skin infections, candidiasis of the perineum, irritability, and reduced mental acumen. Adults with type 1 diabetes tend to have more varied symptoms, which come on over months, rather than days or weeks.\\nProlonged lack of insulin can cause diabetic ketoacidosis, characterized by fruity breath odor, mental confusion, persistent fatigue, dry or flushed skin, abdominal pain, nausea or vomiting, and labored breathing. Blood and urine tests reveal unusually high glucose and ketones in the blood and urine. Untreated ketoacidosis can rapidly progress to loss of consciousness, coma, and death. The percentage of children whose type 1 diabetes begins with an episode of diabetic ketoacidosis varies widely by geography, as low as 15% in parts of Europe and North America, and as high as 80% in the developing world.\\n\\n\\n== Causes ==\\nType 1 diabetes is caused by the destruction of β-cells—the only cel')),\n",
              " GraphDocument(nodes=[Node(id='Type 2 Diabetes Mellitus', type='Person', properties={}), Node(id='Insulin', type='Substance', properties={}), Node(id='High Blood Sugar', type='Condition', properties={}), Node(id='Insulin Resistance', type='Condition', properties={}), Node(id='Relative Lack Of Insulin', type='Condition', properties={}), Node(id='Heart Disease', type='Condition', properties={}), Node(id='Stroke', type='Condition', properties={}), Node(id='Diabetic Retinopathy', type='Condition', properties={}), Node(id='Kidney Failure', type='Condition', properties={}), Node(id='Poor Blood Flow In The Lower Limbs', type='Condition', properties={}), Node(id='Hyperosmolar Hyperglycemic State', type='Condition', properties={}), Node(id='Ketoacidosis', type='Condition', properties={}), Node(id='Obesity', type='Condition', properties={}), Node(id='Lack Of Exercise', type='Condition', properties={}), Node(id='Gestational Diabetes', type='Condition', properties={}), Node(id='Type 1 Diabetes', type='Condition', properties={}), Node(id='Metformin', type='Substance', properties={}), Node(id='Insulin Injections', type='Treatment', properties={}), Node(id='Continuous Glucose Monitor', type='Device', properties={}), Node(id='Bariatric Surgery', type='Treatment', properties={})], relationships=[Relationship(source=Node(id='Type 2 Diabetes Mellitus', type='Person', properties={}), target=Node(id='High Blood Sugar', type='Condition', properties={}), type='PROFESSOR', properties={}), Relationship(source=Node(id='Type 2 Diabetes Mellitus', type='Person', properties={}), target=Node(id='Insulin', type='Substance', properties={}), type='PROFESSOR', properties={}), Relationship(source=Node(id='Type 2 Diabetes Mellitus', type='Person', properties={}), target=Node(id='Insulin Resistance', type='Condition', properties={}), type='PROFESSOR', properties={}), Relationship(source=Node(id='Type 2 Diabetes Mellitus', type='Person', properties={}), target=Node(id='Relative Lack Of Insulin', type='Condition', properties={}), type='PROFESSOR', properties={}), Relationship(source=Node(id='Type 2 Diabetes Mellitus', type='Person', properties={}), target=Node(id='Heart Disease', type='Condition', properties={}), type='PROFESSOR', properties={}), Relationship(source=Node(id='Type 2 Diabetes Mellitus', type='Person', properties={}), target=Node(id='Stroke', type='Condition', properties={}), type='PROFESSOR', properties={}), Relationship(source=Node(id='Type 2 Diabetes Mellitus', type='Person', properties={}), target=Node(id='Diabetic Retinopathy', type='Condition', properties={}), type='PROFESSOR', properties={}), Relationship(source=Node(id='Type 2 Diabetes Mellitus', type='Person', properties={}), target=Node(id='Kidney Failure', type='Condition', properties={}), type='PROFESSOR', properties={}), Relationship(source=Node(id='Type 2 Diabetes Mellitus', type='Person', properties={}), target=Node(id='Poor Blood Flow In The Lower Limbs', type='Condition', properties={}), type='PROFESSOR', properties={}), Relationship(source=Node(id='Type 2 Diabetes Mellitus', type='Person', properties={}), target=Node(id='Hyperosmolar Hyperglycemic State', type='Condition', properties={}), type='PROFESSOR', properties={}), Relationship(source=Node(id='Type 2 Diabetes Mellitus', type='Person', properties={}), target=Node(id='Ketoacidosis', type='Condition', properties={}), type='PROFESSOR', properties={}), Relationship(source=Node(id='Type 2 Diabetes Mellitus', type='Person', properties={}), target=Node(id='Obesity', type='Condition', properties={}), type='PROFESSOR', properties={}), Relationship(source=Node(id='Type 2 Diabetes Mellitus', type='Person', properties={}), target=Node(id='Lack Of Exercise', type='Condition', properties={}), type='PROFESSOR', properties={}), Relationship(source=Node(id='Type 2 Diabetes Mellitus', type='Person', properties={}), target=Node(id='Gestational Diabetes', type='Condition', properties={}), type='PROFESSOR', properties={}), Relationship(source=Node(id='Type 2 Diabetes Mellitus', type='Person', properties={}), target=Node(id='Type 1 Diabetes', type='Condition', properties={}), type='PROFESSOR', properties={}), Relationship(source=Node(id='Type 2 Diabetes Mellitus', type='Person', properties={}), target=Node(id='Metformin', type='Substance', properties={}), type='PROFESSOR', properties={}), Relationship(source=Node(id='Type 2 Diabetes Mellitus', type='Person', properties={}), target=Node(id='Insulin Injections', type='Treatment', properties={}), type='PROFESSOR', properties={}), Relationship(source=Node(id='Type 2 Diabetes Mellitus', type='Person', properties={}), target=Node(id='Continuous Glucose Monitor', type='Device', properties={}), type='PROFESSOR', properties={}), Relationship(source=Node(id='Type 2 Diabetes Mellitus', type='Person', properties={}), target=Node(id='Bariatric Surgery', type='Treatment', properties={}), type='PROFESSOR', properties={})], source=Document(metadata={'title': 'Type 2 diabetes', 'summary': 'Type 2 diabetes mellitus, commonly known as type 2 diabetes (T2D), and formerly known as adult-onset diabetes, is a form of diabetes mellitus that is characterized by high blood sugar, insulin resistance, and relative lack of insulin. Common symptoms include increased thirst, frequent urination, fatigue and unexplained weight loss. Other symptoms include increased hunger, having a sensation of pins and needles, and sores (wounds) that heal slowly. Symptoms often develop slowly. Long-term complications from high blood sugar include heart disease, stroke, diabetic retinopathy, which can result in blindness, kidney failure, and poor blood flow in the lower limbs, which may lead to amputations. A sudden onset of hyperosmolar hyperglycemic state may occur; however, ketoacidosis is uncommon.\\nType 2 diabetes primarily occurs as a result of obesity and lack of exercise. Some people are genetically more at risk than others. Type 2 diabetes makes up about 90% of cases of diabetes, with the other 10% due primarily to type 1 diabetes and gestational diabetes. \\nDiagnosis of diabetes is by blood tests such as fasting plasma glucose, oral glucose tolerance test, or glycated hemoglobin (A1c).\\nType 2 diabetes is largely preventable by staying at a normal weight, exercising regularly, and eating a healthy diet (high in fruits and vegetables and low in sugar and saturated fat).\\nTreatment involves exercise and dietary changes. If blood sugar levels are not adequately lowered, the medication metformin is typically recommended. Many people may eventually also require insulin injections. In those on insulin, routinely checking blood sugar levels (such as through a continuous glucose monitor) is advised; however, this may not be needed in those who are not on insulin therapy. Bariatric surgery often improves diabetes in those who are obese.\\nRates of type 2 diabetes have increased markedly since 1960 in parallel with obesity. As of 2015, there were approximately 392 million people diagnosed with the disease compared to around 30 million in 1985. Typically, it begins in middle or older age, although rates of type 2 diabetes are increasing in young people. Type 2 diabetes is associated with a ten-year-shorter life expectancy. Diabetes was one of the first diseases ever described, dating back to an Egyptian manuscript from c.\\u20091500 BCE. Type 1 and type 2 diabetes were identified as separate conditions in 400–500 CE with type 1 associated with youth and type 2 with being overweight. The importance of insulin in the disease was determined in the 1920s.', 'source': 'https://en.wikipedia.org/wiki/Type_2_diabetes'}, page_content='Type 2 diabetes mellitus, commonly known as type 2 diabetes (T2D), and formerly known as adult-onset diabetes, is a form of diabetes mellitus that is characterized by high blood sugar, insulin resistance, and relative lack of insulin. Common symptoms include increased thirst, frequent urination, fatigue and unexplained weight loss. Other symptoms include increased hunger, having a sensation of pins and needles, and sores (wounds) that heal slowly. Symptoms often develop slowly. Long-term complications from high blood sugar include heart disease, stroke, diabetic retinopathy, which can result in blindness, kidney failure, and poor blood flow in the lower limbs, which may lead to amputations. A sudden onset of hyperosmolar hyperglycemic state may occur; however, ketoacidosis is uncommon.\\nType 2 diabetes primarily occurs as a result of obesity and lack of exercise. Some people are genetically more at risk than others. Type 2 diabetes makes up about 90% of cases of diabetes, with the other 10% due primarily to type 1 diabetes and gestational diabetes. \\nDiagnosis of diabetes is by blood tests such as fasting plasma glucose, oral glucose tolerance test, or glycated hemoglobin (A1c).\\nType 2 diabetes is largely preventable by staying at a normal weight, exercising regularly, and eating a healthy diet (high in fruits and vegetables and low in sugar and saturated fat).\\nTreatment involves exercise and dietary changes. If blood sugar levels are not adequately lowered, the medication metformin is typically recommended. Many people may eventually also require insulin injections. In those on insulin, routinely checking blood sugar levels (such as through a continuous glucose monitor) is advised; however, this may not be needed in those who are not on insulin therapy. Bariatric surgery often improves diabetes in those who are obese.\\nRates of type 2 diabetes have increased markedly since 1960 in parallel with obesity. As of 2015, there were approximately 392 million people diagnosed with the disease compared to around 30 million in 1985. Typically, it begins in middle or older age, although rates of type 2 diabetes are increasing in young people. Type 2 diabetes is associated with a ten-year-shorter life expectancy. Diabetes was one of the first diseases ever described, dating back to an Egyptian manuscript from c.\\u20091500 BCE. Type 1 and type 2 diabetes were identified as separate conditions in 400–500 CE with type 1 associated with youth and type 2 with being overweight. The importance of insulin in the disease')),\n",
              " GraphDocument(nodes=[Node(id='Diabetes', type='Disease', properties={}), Node(id='Insulin', type='Hormone', properties={}), Node(id='Type 1 Diabetes', type='Disease', properties={}), Node(id='Type 2 Diabetes', type='Disease', properties={}), Node(id='Youth', type='Age group', properties={}), Node(id='Overweight', type='Condition', properties={})], relationships=[Relationship(source=Node(id='Diabetes', type='Disease', properties={}), target=Node(id='Insulin', type='Hormone', properties={}), type='ASSOCIATED_WITH', properties={}), Relationship(source=Node(id='Type 1 Diabetes', type='Disease', properties={}), target=Node(id='Youth', type='Age group', properties={}), type='ASSOCIATED_WITH', properties={}), Relationship(source=Node(id='Type 2 Diabetes', type='Disease', properties={}), target=Node(id='Overweight', type='Condition', properties={}), type='ASSOCIATED_WITH', properties={})], source=Document(metadata={'title': 'Type 2 diabetes', 'summary': 'Type 2 diabetes mellitus, commonly known as type 2 diabetes (T2D), and formerly known as adult-onset diabetes, is a form of diabetes mellitus that is characterized by high blood sugar, insulin resistance, and relative lack of insulin. Common symptoms include increased thirst, frequent urination, fatigue and unexplained weight loss. Other symptoms include increased hunger, having a sensation of pins and needles, and sores (wounds) that heal slowly. Symptoms often develop slowly. Long-term complications from high blood sugar include heart disease, stroke, diabetic retinopathy, which can result in blindness, kidney failure, and poor blood flow in the lower limbs, which may lead to amputations. A sudden onset of hyperosmolar hyperglycemic state may occur; however, ketoacidosis is uncommon.\\nType 2 diabetes primarily occurs as a result of obesity and lack of exercise. Some people are genetically more at risk than others. Type 2 diabetes makes up about 90% of cases of diabetes, with the other 10% due primarily to type 1 diabetes and gestational diabetes. \\nDiagnosis of diabetes is by blood tests such as fasting plasma glucose, oral glucose tolerance test, or glycated hemoglobin (A1c).\\nType 2 diabetes is largely preventable by staying at a normal weight, exercising regularly, and eating a healthy diet (high in fruits and vegetables and low in sugar and saturated fat).\\nTreatment involves exercise and dietary changes. If blood sugar levels are not adequately lowered, the medication metformin is typically recommended. Many people may eventually also require insulin injections. In those on insulin, routinely checking blood sugar levels (such as through a continuous glucose monitor) is advised; however, this may not be needed in those who are not on insulin therapy. Bariatric surgery often improves diabetes in those who are obese.\\nRates of type 2 diabetes have increased markedly since 1960 in parallel with obesity. As of 2015, there were approximately 392 million people diagnosed with the disease compared to around 30 million in 1985. Typically, it begins in middle or older age, although rates of type 2 diabetes are increasing in young people. Type 2 diabetes is associated with a ten-year-shorter life expectancy. Diabetes was one of the first diseases ever described, dating back to an Egyptian manuscript from c.\\u20091500 BCE. Type 1 and type 2 diabetes were identified as separate conditions in 400–500 CE with type 1 associated with youth and type 2 with being overweight. The importance of insulin in the disease was determined in the 1920s.', 'source': 'https://en.wikipedia.org/wiki/Type_2_diabetes'}, page_content=\" 400–500 CE with type 1 associated with youth and type 2 with being overweight. The importance of insulin in the disease was determined in the 1920s.\\n\\n\\n== Signs and symptoms ==\\n\\nThe classic symptoms of diabetes are frequent urination (polyuria), increased thirst (polydipsia), increased hunger (polyphagia), and weight loss. Other symptoms that are commonly present at diagnosis include a history of blurred vision, itchiness, peripheral neuropathy, recurrent vaginal infections, and fatigue. Other symptoms may include loss of taste.  Many people, however, have no symptoms during the first few years and are diagnosed on routine testing. A small number of people with type 2 diabetes can develop a hyperosmolar hyperglycemic state (a condition of very high blood sugar associated with a decreased level of consciousness and low blood pressure).\\n\\n\\n=== Complications ===\\n\\nType 2 diabetes is typically a chronic disease associated with a ten-year-shorter life expectancy. This is partly due to a number of complications with which it is associated, including: two to four times the risk of cardiovascular disease, including ischemic heart disease and stroke; a 20-fold increase in lower limb amputations, and increased rates of hospitalizations. In the developed world, and increasingly elsewhere, type 2 diabetes is the largest cause of nontraumatic blindness and kidney failure. It has also been associated with an increased risk of cognitive dysfunction and dementia through disease processes such as Alzheimer's disease and vascular dementia. Other complications include hyperpig\"))]"
            ]
          },
          "metadata": {},
          "execution_count": 107
        }
      ]
    },
    {
      "cell_type": "code",
      "source": [
        "graph.add_graph_documents(\n",
        "    graph_documents,\n",
        "    baseEntityLabel=True,\n",
        "    include_source=True)"
      ],
      "metadata": {
        "id": "sROOrDqBFKG5"
      },
      "execution_count": 108,
      "outputs": []
    },
    {
      "cell_type": "code",
      "source": [
        "graph.query(\"\"\"\n",
        "MERGE (d:Disease {name: 'Diabetes'})\n",
        "MERGE (t1:Disease {name: 'Type 1 Diabetes'})\n",
        "MERGE (t2:Disease {name: 'Type 2 Diabetes'})\n",
        "MERGE (g:Disease {name: 'Gestational Diabetes'})\n",
        "MERGE (l:Disease {name: 'LADA Diabetes'})\n",
        "\n",
        "MERGE (t1)-[:IS_SUBTYPE_OF]->(d)\n",
        "MERGE (t2)-[:IS_SUBTYPE_OF]->(d)\n",
        "MERGE (g)-[:IS_SUBTYPE_OF]->(d)\n",
        "MERGE (l)-[:IS_SUBTYPE_OF]->(d)\n",
        "\"\"\")\n"
      ],
      "metadata": {
        "colab": {
          "base_uri": "https://localhost:8080/"
        },
        "id": "7JmPTD08NJ71",
        "outputId": "ce7a5844-cd94-4d40-eecc-b53a45908803"
      },
      "execution_count": 109,
      "outputs": [
        {
          "output_type": "execute_result",
          "data": {
            "text/plain": [
              "[]"
            ]
          },
          "metadata": {},
          "execution_count": 109
        }
      ]
    },
    {
      "cell_type": "code",
      "source": [
        "# default_cypher = \"MATCH (s)-[r:!MENTIONS]->(t) RETURN s,r,t LIMIT 50\"\n",
        "relevant_rels = [\n",
        "    'HAS_SYMPTOM', 'TREATED_WITH', 'HAS_SIDE_EFFECT', 'RISK_FACTOR',\n",
        "    'IS_SUBTYPE_OF', 'CAUSES', 'IS_COMPLICATION_OF',\n",
        "    'DIAGNOSED_BY', 'REQUIRES_TREATMENT', 'TREATS',\n",
        "    'MANIFESTS_IN', 'CAN_BE_PREVENTED_BY', 'CAN_CAUSE', 'PREVENTS'\n",
        "]\n",
        "\n",
        "default_cypher = f\"\"\"\n",
        "MATCH (d:Disease)-[r]->(t)\n",
        "WHERE type(r) IN {relevant_rels}\n",
        "RETURN d, r, t LIMIT 50\n",
        "\"\"\"\n",
        "\n"
      ],
      "metadata": {
        "id": "xq866lUJuBNe"
      },
      "execution_count": 110,
      "outputs": []
    },
    {
      "cell_type": "code",
      "source": [
        "%pip install yfiles_jupyter_graphs"
      ],
      "metadata": {
        "colab": {
          "base_uri": "https://localhost:8080/"
        },
        "id": "WXxi8g5mvBGN",
        "outputId": "94942409-1c29-4af3-f204-f56c987d84d3"
      },
      "execution_count": 111,
      "outputs": [
        {
          "output_type": "stream",
          "name": "stdout",
          "text": [
            "Requirement already satisfied: yfiles_jupyter_graphs in /usr/local/lib/python3.11/dist-packages (1.10.7)\n",
            "Requirement already satisfied: ipywidgets>=7.6.0 in /usr/local/lib/python3.11/dist-packages (from yfiles_jupyter_graphs) (7.7.1)\n",
            "Requirement already satisfied: ipykernel>=4.5.1 in /usr/local/lib/python3.11/dist-packages (from ipywidgets>=7.6.0->yfiles_jupyter_graphs) (6.17.1)\n",
            "Requirement already satisfied: ipython-genutils~=0.2.0 in /usr/local/lib/python3.11/dist-packages (from ipywidgets>=7.6.0->yfiles_jupyter_graphs) (0.2.0)\n",
            "Requirement already satisfied: traitlets>=4.3.1 in /usr/local/lib/python3.11/dist-packages (from ipywidgets>=7.6.0->yfiles_jupyter_graphs) (5.7.1)\n",
            "Requirement already satisfied: widgetsnbextension~=3.6.0 in /usr/local/lib/python3.11/dist-packages (from ipywidgets>=7.6.0->yfiles_jupyter_graphs) (3.6.10)\n",
            "Requirement already satisfied: ipython>=4.0.0 in /usr/local/lib/python3.11/dist-packages (from ipywidgets>=7.6.0->yfiles_jupyter_graphs) (7.34.0)\n",
            "Requirement already satisfied: jupyterlab-widgets>=1.0.0 in /usr/local/lib/python3.11/dist-packages (from ipywidgets>=7.6.0->yfiles_jupyter_graphs) (3.0.15)\n",
            "Requirement already satisfied: debugpy>=1.0 in /usr/local/lib/python3.11/dist-packages (from ipykernel>=4.5.1->ipywidgets>=7.6.0->yfiles_jupyter_graphs) (1.8.0)\n",
            "Requirement already satisfied: jupyter-client>=6.1.12 in /usr/local/lib/python3.11/dist-packages (from ipykernel>=4.5.1->ipywidgets>=7.6.0->yfiles_jupyter_graphs) (6.1.12)\n",
            "Requirement already satisfied: matplotlib-inline>=0.1 in /usr/local/lib/python3.11/dist-packages (from ipykernel>=4.5.1->ipywidgets>=7.6.0->yfiles_jupyter_graphs) (0.1.7)\n",
            "Requirement already satisfied: nest-asyncio in /usr/local/lib/python3.11/dist-packages (from ipykernel>=4.5.1->ipywidgets>=7.6.0->yfiles_jupyter_graphs) (1.6.0)\n",
            "Requirement already satisfied: packaging in /usr/local/lib/python3.11/dist-packages (from ipykernel>=4.5.1->ipywidgets>=7.6.0->yfiles_jupyter_graphs) (24.2)\n",
            "Requirement already satisfied: psutil in /usr/local/lib/python3.11/dist-packages (from ipykernel>=4.5.1->ipywidgets>=7.6.0->yfiles_jupyter_graphs) (5.9.5)\n",
            "Requirement already satisfied: pyzmq>=17 in /usr/local/lib/python3.11/dist-packages (from ipykernel>=4.5.1->ipywidgets>=7.6.0->yfiles_jupyter_graphs) (24.0.1)\n",
            "Requirement already satisfied: tornado>=6.1 in /usr/local/lib/python3.11/dist-packages (from ipykernel>=4.5.1->ipywidgets>=7.6.0->yfiles_jupyter_graphs) (6.4.2)\n",
            "Requirement already satisfied: setuptools>=18.5 in /usr/local/lib/python3.11/dist-packages (from ipython>=4.0.0->ipywidgets>=7.6.0->yfiles_jupyter_graphs) (75.2.0)\n",
            "Requirement already satisfied: jedi>=0.16 in /usr/local/lib/python3.11/dist-packages (from ipython>=4.0.0->ipywidgets>=7.6.0->yfiles_jupyter_graphs) (0.19.2)\n",
            "Requirement already satisfied: decorator in /usr/local/lib/python3.11/dist-packages (from ipython>=4.0.0->ipywidgets>=7.6.0->yfiles_jupyter_graphs) (4.4.2)\n",
            "Requirement already satisfied: pickleshare in /usr/local/lib/python3.11/dist-packages (from ipython>=4.0.0->ipywidgets>=7.6.0->yfiles_jupyter_graphs) (0.7.5)\n",
            "Requirement already satisfied: prompt-toolkit!=3.0.0,!=3.0.1,<3.1.0,>=2.0.0 in /usr/local/lib/python3.11/dist-packages (from ipython>=4.0.0->ipywidgets>=7.6.0->yfiles_jupyter_graphs) (3.0.51)\n",
            "Requirement already satisfied: pygments in /usr/local/lib/python3.11/dist-packages (from ipython>=4.0.0->ipywidgets>=7.6.0->yfiles_jupyter_graphs) (2.19.2)\n",
            "Requirement already satisfied: backcall in /usr/local/lib/python3.11/dist-packages (from ipython>=4.0.0->ipywidgets>=7.6.0->yfiles_jupyter_graphs) (0.2.0)\n",
            "Requirement already satisfied: pexpect>4.3 in /usr/local/lib/python3.11/dist-packages (from ipython>=4.0.0->ipywidgets>=7.6.0->yfiles_jupyter_graphs) (4.9.0)\n",
            "Requirement already satisfied: notebook>=4.4.1 in /usr/local/lib/python3.11/dist-packages (from widgetsnbextension~=3.6.0->ipywidgets>=7.6.0->yfiles_jupyter_graphs) (6.5.7)\n",
            "Requirement already satisfied: parso<0.9.0,>=0.8.4 in /usr/local/lib/python3.11/dist-packages (from jedi>=0.16->ipython>=4.0.0->ipywidgets>=7.6.0->yfiles_jupyter_graphs) (0.8.4)\n",
            "Requirement already satisfied: jupyter-core>=4.6.0 in /usr/local/lib/python3.11/dist-packages (from jupyter-client>=6.1.12->ipykernel>=4.5.1->ipywidgets>=7.6.0->yfiles_jupyter_graphs) (5.8.1)\n",
            "Requirement already satisfied: python-dateutil>=2.1 in /usr/local/lib/python3.11/dist-packages (from jupyter-client>=6.1.12->ipykernel>=4.5.1->ipywidgets>=7.6.0->yfiles_jupyter_graphs) (2.9.0.post0)\n",
            "Requirement already satisfied: jinja2 in /usr/local/lib/python3.11/dist-packages (from notebook>=4.4.1->widgetsnbextension~=3.6.0->ipywidgets>=7.6.0->yfiles_jupyter_graphs) (3.1.6)\n",
            "Requirement already satisfied: argon2-cffi in /usr/local/lib/python3.11/dist-packages (from notebook>=4.4.1->widgetsnbextension~=3.6.0->ipywidgets>=7.6.0->yfiles_jupyter_graphs) (25.1.0)\n",
            "Requirement already satisfied: nbformat in /usr/local/lib/python3.11/dist-packages (from notebook>=4.4.1->widgetsnbextension~=3.6.0->ipywidgets>=7.6.0->yfiles_jupyter_graphs) (5.10.4)\n",
            "Requirement already satisfied: nbconvert>=5 in /usr/local/lib/python3.11/dist-packages (from notebook>=4.4.1->widgetsnbextension~=3.6.0->ipywidgets>=7.6.0->yfiles_jupyter_graphs) (7.16.6)\n",
            "Requirement already satisfied: Send2Trash>=1.8.0 in /usr/local/lib/python3.11/dist-packages (from notebook>=4.4.1->widgetsnbextension~=3.6.0->ipywidgets>=7.6.0->yfiles_jupyter_graphs) (1.8.3)\n",
            "Requirement already satisfied: terminado>=0.8.3 in /usr/local/lib/python3.11/dist-packages (from notebook>=4.4.1->widgetsnbextension~=3.6.0->ipywidgets>=7.6.0->yfiles_jupyter_graphs) (0.18.1)\n",
            "Requirement already satisfied: prometheus-client in /usr/local/lib/python3.11/dist-packages (from notebook>=4.4.1->widgetsnbextension~=3.6.0->ipywidgets>=7.6.0->yfiles_jupyter_graphs) (0.22.1)\n",
            "Requirement already satisfied: nbclassic>=0.4.7 in /usr/local/lib/python3.11/dist-packages (from notebook>=4.4.1->widgetsnbextension~=3.6.0->ipywidgets>=7.6.0->yfiles_jupyter_graphs) (1.3.1)\n",
            "Requirement already satisfied: ptyprocess>=0.5 in /usr/local/lib/python3.11/dist-packages (from pexpect>4.3->ipython>=4.0.0->ipywidgets>=7.6.0->yfiles_jupyter_graphs) (0.7.0)\n",
            "Requirement already satisfied: wcwidth in /usr/local/lib/python3.11/dist-packages (from prompt-toolkit!=3.0.0,!=3.0.1,<3.1.0,>=2.0.0->ipython>=4.0.0->ipywidgets>=7.6.0->yfiles_jupyter_graphs) (0.2.13)\n",
            "Requirement already satisfied: platformdirs>=2.5 in /usr/local/lib/python3.11/dist-packages (from jupyter-core>=4.6.0->jupyter-client>=6.1.12->ipykernel>=4.5.1->ipywidgets>=7.6.0->yfiles_jupyter_graphs) (4.3.8)\n",
            "Requirement already satisfied: notebook-shim>=0.2.3 in /usr/local/lib/python3.11/dist-packages (from nbclassic>=0.4.7->notebook>=4.4.1->widgetsnbextension~=3.6.0->ipywidgets>=7.6.0->yfiles_jupyter_graphs) (0.2.4)\n",
            "Requirement already satisfied: beautifulsoup4 in /usr/local/lib/python3.11/dist-packages (from nbconvert>=5->notebook>=4.4.1->widgetsnbextension~=3.6.0->ipywidgets>=7.6.0->yfiles_jupyter_graphs) (4.13.4)\n",
            "Requirement already satisfied: bleach!=5.0.0 in /usr/local/lib/python3.11/dist-packages (from bleach[css]!=5.0.0->nbconvert>=5->notebook>=4.4.1->widgetsnbextension~=3.6.0->ipywidgets>=7.6.0->yfiles_jupyter_graphs) (6.2.0)\n",
            "Requirement already satisfied: defusedxml in /usr/local/lib/python3.11/dist-packages (from nbconvert>=5->notebook>=4.4.1->widgetsnbextension~=3.6.0->ipywidgets>=7.6.0->yfiles_jupyter_graphs) (0.7.1)\n",
            "Requirement already satisfied: jupyterlab-pygments in /usr/local/lib/python3.11/dist-packages (from nbconvert>=5->notebook>=4.4.1->widgetsnbextension~=3.6.0->ipywidgets>=7.6.0->yfiles_jupyter_graphs) (0.3.0)\n",
            "Requirement already satisfied: markupsafe>=2.0 in /usr/local/lib/python3.11/dist-packages (from nbconvert>=5->notebook>=4.4.1->widgetsnbextension~=3.6.0->ipywidgets>=7.6.0->yfiles_jupyter_graphs) (3.0.2)\n",
            "Requirement already satisfied: mistune<4,>=2.0.3 in /usr/local/lib/python3.11/dist-packages (from nbconvert>=5->notebook>=4.4.1->widgetsnbextension~=3.6.0->ipywidgets>=7.6.0->yfiles_jupyter_graphs) (3.1.3)\n",
            "Requirement already satisfied: nbclient>=0.5.0 in /usr/local/lib/python3.11/dist-packages (from nbconvert>=5->notebook>=4.4.1->widgetsnbextension~=3.6.0->ipywidgets>=7.6.0->yfiles_jupyter_graphs) (0.10.2)\n",
            "Requirement already satisfied: pandocfilters>=1.4.1 in /usr/local/lib/python3.11/dist-packages (from nbconvert>=5->notebook>=4.4.1->widgetsnbextension~=3.6.0->ipywidgets>=7.6.0->yfiles_jupyter_graphs) (1.5.1)\n",
            "Requirement already satisfied: fastjsonschema>=2.15 in /usr/local/lib/python3.11/dist-packages (from nbformat->notebook>=4.4.1->widgetsnbextension~=3.6.0->ipywidgets>=7.6.0->yfiles_jupyter_graphs) (2.21.1)\n",
            "Requirement already satisfied: jsonschema>=2.6 in /usr/local/lib/python3.11/dist-packages (from nbformat->notebook>=4.4.1->widgetsnbextension~=3.6.0->ipywidgets>=7.6.0->yfiles_jupyter_graphs) (4.24.0)\n",
            "Requirement already satisfied: six>=1.5 in /usr/local/lib/python3.11/dist-packages (from python-dateutil>=2.1->jupyter-client>=6.1.12->ipykernel>=4.5.1->ipywidgets>=7.6.0->yfiles_jupyter_graphs) (1.17.0)\n",
            "Requirement already satisfied: argon2-cffi-bindings in /usr/local/lib/python3.11/dist-packages (from argon2-cffi->notebook>=4.4.1->widgetsnbextension~=3.6.0->ipywidgets>=7.6.0->yfiles_jupyter_graphs) (21.2.0)\n",
            "Requirement already satisfied: webencodings in /usr/local/lib/python3.11/dist-packages (from bleach!=5.0.0->bleach[css]!=5.0.0->nbconvert>=5->notebook>=4.4.1->widgetsnbextension~=3.6.0->ipywidgets>=7.6.0->yfiles_jupyter_graphs) (0.5.1)\n",
            "Requirement already satisfied: tinycss2<1.5,>=1.1.0 in /usr/local/lib/python3.11/dist-packages (from bleach[css]!=5.0.0->nbconvert>=5->notebook>=4.4.1->widgetsnbextension~=3.6.0->ipywidgets>=7.6.0->yfiles_jupyter_graphs) (1.4.0)\n",
            "Requirement already satisfied: attrs>=22.2.0 in /usr/local/lib/python3.11/dist-packages (from jsonschema>=2.6->nbformat->notebook>=4.4.1->widgetsnbextension~=3.6.0->ipywidgets>=7.6.0->yfiles_jupyter_graphs) (25.3.0)\n",
            "Requirement already satisfied: jsonschema-specifications>=2023.03.6 in /usr/local/lib/python3.11/dist-packages (from jsonschema>=2.6->nbformat->notebook>=4.4.1->widgetsnbextension~=3.6.0->ipywidgets>=7.6.0->yfiles_jupyter_graphs) (2025.4.1)\n",
            "Requirement already satisfied: referencing>=0.28.4 in /usr/local/lib/python3.11/dist-packages (from jsonschema>=2.6->nbformat->notebook>=4.4.1->widgetsnbextension~=3.6.0->ipywidgets>=7.6.0->yfiles_jupyter_graphs) (0.36.2)\n",
            "Requirement already satisfied: rpds-py>=0.7.1 in /usr/local/lib/python3.11/dist-packages (from jsonschema>=2.6->nbformat->notebook>=4.4.1->widgetsnbextension~=3.6.0->ipywidgets>=7.6.0->yfiles_jupyter_graphs) (0.25.1)\n",
            "Requirement already satisfied: jupyter-server<3,>=1.8 in /usr/local/lib/python3.11/dist-packages (from notebook-shim>=0.2.3->nbclassic>=0.4.7->notebook>=4.4.1->widgetsnbextension~=3.6.0->ipywidgets>=7.6.0->yfiles_jupyter_graphs) (1.16.0)\n",
            "Requirement already satisfied: cffi>=1.0.1 in /usr/local/lib/python3.11/dist-packages (from argon2-cffi-bindings->argon2-cffi->notebook>=4.4.1->widgetsnbextension~=3.6.0->ipywidgets>=7.6.0->yfiles_jupyter_graphs) (1.17.1)\n",
            "Requirement already satisfied: soupsieve>1.2 in /usr/local/lib/python3.11/dist-packages (from beautifulsoup4->nbconvert>=5->notebook>=4.4.1->widgetsnbextension~=3.6.0->ipywidgets>=7.6.0->yfiles_jupyter_graphs) (2.7)\n",
            "Requirement already satisfied: typing-extensions>=4.0.0 in /usr/local/lib/python3.11/dist-packages (from beautifulsoup4->nbconvert>=5->notebook>=4.4.1->widgetsnbextension~=3.6.0->ipywidgets>=7.6.0->yfiles_jupyter_graphs) (4.14.0)\n",
            "Requirement already satisfied: pycparser in /usr/local/lib/python3.11/dist-packages (from cffi>=1.0.1->argon2-cffi-bindings->argon2-cffi->notebook>=4.4.1->widgetsnbextension~=3.6.0->ipywidgets>=7.6.0->yfiles_jupyter_graphs) (2.22)\n",
            "Requirement already satisfied: anyio>=3.1.0 in /usr/local/lib/python3.11/dist-packages (from jupyter-server<3,>=1.8->notebook-shim>=0.2.3->nbclassic>=0.4.7->notebook>=4.4.1->widgetsnbextension~=3.6.0->ipywidgets>=7.6.0->yfiles_jupyter_graphs) (4.9.0)\n",
            "Requirement already satisfied: websocket-client in /usr/local/lib/python3.11/dist-packages (from jupyter-server<3,>=1.8->notebook-shim>=0.2.3->nbclassic>=0.4.7->notebook>=4.4.1->widgetsnbextension~=3.6.0->ipywidgets>=7.6.0->yfiles_jupyter_graphs) (1.8.0)\n",
            "Requirement already satisfied: idna>=2.8 in /usr/local/lib/python3.11/dist-packages (from anyio>=3.1.0->jupyter-server<3,>=1.8->notebook-shim>=0.2.3->nbclassic>=0.4.7->notebook>=4.4.1->widgetsnbextension~=3.6.0->ipywidgets>=7.6.0->yfiles_jupyter_graphs) (3.10)\n",
            "Requirement already satisfied: sniffio>=1.1 in /usr/local/lib/python3.11/dist-packages (from anyio>=3.1.0->jupyter-server<3,>=1.8->notebook-shim>=0.2.3->nbclassic>=0.4.7->notebook>=4.4.1->widgetsnbextension~=3.6.0->ipywidgets>=7.6.0->yfiles_jupyter_graphs) (1.3.1)\n"
          ]
        }
      ]
    },
    {
      "cell_type": "code",
      "source": [
        "from yfiles_jupyter_graphs import GraphWidget\n",
        "from neo4j import GraphDatabase"
      ],
      "metadata": {
        "id": "_NYVKfyGv9pN"
      },
      "execution_count": 112,
      "outputs": []
    },
    {
      "cell_type": "code",
      "source": [
        "try:\n",
        "    import google.colab\n",
        "    from google.colab import output\n",
        "    output.enable_custom_widget_manager()\n",
        "except:\n",
        "    pass"
      ],
      "metadata": {
        "id": "3RQNWFxAwTbt"
      },
      "execution_count": 113,
      "outputs": []
    },
    {
      "cell_type": "code",
      "source": [
        "def showGraph(cypher: str = default_cypher):\n",
        "    # create a needj session to run queries\n",
        "    driver = GraphDatabase.driver(\n",
        "        url = os.environ[\"NEO4J_URL\"],\n",
        "        auth = (os.environ[\"NEO4_USERNAME\"],\n",
        "                os.environ[\"NEO4J_PASSWORD\"]))\n",
        "    session = driver.session()\n",
        "    widget = GraphWidget(graph = session.run(cypher).graph())\n",
        "    widget.node_label_mapping = 'id'\n",
        "    display(widget)\n",
        "    return widget"
      ],
      "metadata": {
        "id": "UaGVabwruSrp"
      },
      "execution_count": 114,
      "outputs": []
    },
    {
      "cell_type": "code",
      "source": [
        "!pip install neo4j pyvis\n"
      ],
      "metadata": {
        "colab": {
          "base_uri": "https://localhost:8080/"
        },
        "id": "-T74l7ROvQ98",
        "outputId": "e4a1cba1-b043-4d3f-a5ad-07d4b09fdfa6"
      },
      "execution_count": 115,
      "outputs": [
        {
          "output_type": "stream",
          "name": "stdout",
          "text": [
            "Requirement already satisfied: neo4j in /usr/local/lib/python3.11/dist-packages (5.28.1)\n",
            "Requirement already satisfied: pyvis in /usr/local/lib/python3.11/dist-packages (0.3.2)\n",
            "Requirement already satisfied: pytz in /usr/local/lib/python3.11/dist-packages (from neo4j) (2025.2)\n",
            "Requirement already satisfied: ipython>=5.3.0 in /usr/local/lib/python3.11/dist-packages (from pyvis) (7.34.0)\n",
            "Requirement already satisfied: jinja2>=2.9.6 in /usr/local/lib/python3.11/dist-packages (from pyvis) (3.1.6)\n",
            "Requirement already satisfied: jsonpickle>=1.4.1 in /usr/local/lib/python3.11/dist-packages (from pyvis) (4.1.1)\n",
            "Requirement already satisfied: networkx>=1.11 in /usr/local/lib/python3.11/dist-packages (from pyvis) (3.5)\n",
            "Requirement already satisfied: setuptools>=18.5 in /usr/local/lib/python3.11/dist-packages (from ipython>=5.3.0->pyvis) (75.2.0)\n",
            "Requirement already satisfied: jedi>=0.16 in /usr/local/lib/python3.11/dist-packages (from ipython>=5.3.0->pyvis) (0.19.2)\n",
            "Requirement already satisfied: decorator in /usr/local/lib/python3.11/dist-packages (from ipython>=5.3.0->pyvis) (4.4.2)\n",
            "Requirement already satisfied: pickleshare in /usr/local/lib/python3.11/dist-packages (from ipython>=5.3.0->pyvis) (0.7.5)\n",
            "Requirement already satisfied: traitlets>=4.2 in /usr/local/lib/python3.11/dist-packages (from ipython>=5.3.0->pyvis) (5.7.1)\n",
            "Requirement already satisfied: prompt-toolkit!=3.0.0,!=3.0.1,<3.1.0,>=2.0.0 in /usr/local/lib/python3.11/dist-packages (from ipython>=5.3.0->pyvis) (3.0.51)\n",
            "Requirement already satisfied: pygments in /usr/local/lib/python3.11/dist-packages (from ipython>=5.3.0->pyvis) (2.19.2)\n",
            "Requirement already satisfied: backcall in /usr/local/lib/python3.11/dist-packages (from ipython>=5.3.0->pyvis) (0.2.0)\n",
            "Requirement already satisfied: matplotlib-inline in /usr/local/lib/python3.11/dist-packages (from ipython>=5.3.0->pyvis) (0.1.7)\n",
            "Requirement already satisfied: pexpect>4.3 in /usr/local/lib/python3.11/dist-packages (from ipython>=5.3.0->pyvis) (4.9.0)\n",
            "Requirement already satisfied: MarkupSafe>=2.0 in /usr/local/lib/python3.11/dist-packages (from jinja2>=2.9.6->pyvis) (3.0.2)\n",
            "Requirement already satisfied: parso<0.9.0,>=0.8.4 in /usr/local/lib/python3.11/dist-packages (from jedi>=0.16->ipython>=5.3.0->pyvis) (0.8.4)\n",
            "Requirement already satisfied: ptyprocess>=0.5 in /usr/local/lib/python3.11/dist-packages (from pexpect>4.3->ipython>=5.3.0->pyvis) (0.7.0)\n",
            "Requirement already satisfied: wcwidth in /usr/local/lib/python3.11/dist-packages (from prompt-toolkit!=3.0.0,!=3.0.1,<3.1.0,>=2.0.0->ipython>=5.3.0->pyvis) (0.2.13)\n"
          ]
        }
      ]
    },
    {
      "cell_type": "code",
      "source": [
        "showGraph"
      ],
      "metadata": {
        "id": "rRSM2CWQuk7Z",
        "colab": {
          "base_uri": "https://localhost:8080/",
          "height": 103
        },
        "outputId": "cc1f01c5-fef3-4f53-d100-d4a818450d5e"
      },
      "execution_count": 116,
      "outputs": [
        {
          "output_type": "execute_result",
          "data": {
            "text/plain": [
              "<function __main__.showGraph(cypher: str = \"\\nMATCH (d:Disease)-[r]->(t)\\nWHERE type(r) IN ['HAS_SYMPTOM', 'TREATED_WITH', 'HAS_SIDE_EFFECT', 'RISK_FACTOR', 'IS_SUBTYPE_OF', 'CAUSES', 'IS_COMPLICATION_OF', 'DIAGNOSED_BY', 'REQUIRES_TREATMENT', 'TREATS', 'MANIFESTS_IN', 'CAN_BE_PREVENTED_BY', 'CAN_CAUSE', 'PREVENTS']\\nRETURN d, r, t LIMIT 50\\n\")>"
            ],
            "text/html": [
              "<div style=\"max-width:800px; border: 1px solid var(--colab-border-color);\"><style>\n",
              "      pre.function-repr-contents {\n",
              "        overflow-x: auto;\n",
              "        padding: 8px 12px;\n",
              "        max-height: 500px;\n",
              "      }\n",
              "\n",
              "      pre.function-repr-contents.function-repr-contents-collapsed {\n",
              "        cursor: pointer;\n",
              "        max-height: 100px;\n",
              "      }\n",
              "    </style>\n",
              "    <pre style=\"white-space: initial; background:\n",
              "         var(--colab-secondary-surface-color); padding: 8px 12px;\n",
              "         border-bottom: 1px solid var(--colab-border-color);\"><b>showGraph</b><br/>def showGraph(cypher: str=default_cypher)</pre><pre class=\"function-repr-contents function-repr-contents-collapsed\" style=\"\"><a class=\"filepath\" style=\"display:none\" href=\"#\">/tmp/ipython-input-114-2569774824.py</a>&lt;no docstring&gt;</pre></div>"
            ]
          },
          "metadata": {},
          "execution_count": 116
        }
      ]
    },
    {
      "cell_type": "code",
      "source": [
        "from typing import Tuple , List, Optional"
      ],
      "metadata": {
        "id": "2de7t944zzah"
      },
      "execution_count": 117,
      "outputs": []
    },
    {
      "cell_type": "code",
      "source": [
        "from langchain_community.vectorstores import Neo4jVector"
      ],
      "metadata": {
        "id": "iiG4vC7gz32R"
      },
      "execution_count": 118,
      "outputs": []
    },
    {
      "cell_type": "code",
      "source": [
        "!pip install langchain-huggingface\n"
      ],
      "metadata": {
        "colab": {
          "base_uri": "https://localhost:8080/"
        },
        "id": "zVdXS9ZBwrpv",
        "outputId": "78b52871-db5b-4aa1-a953-9dfb46f163f9"
      },
      "execution_count": 119,
      "outputs": [
        {
          "output_type": "stream",
          "name": "stdout",
          "text": [
            "Requirement already satisfied: langchain-huggingface in /usr/local/lib/python3.11/dist-packages (0.3.0)\n",
            "Requirement already satisfied: langchain-core<1.0.0,>=0.3.65 in /usr/local/lib/python3.11/dist-packages (from langchain-huggingface) (0.3.66)\n",
            "Requirement already satisfied: tokenizers>=0.19.1 in /usr/local/lib/python3.11/dist-packages (from langchain-huggingface) (0.21.2)\n",
            "Requirement already satisfied: huggingface-hub>=0.30.2 in /usr/local/lib/python3.11/dist-packages (from langchain-huggingface) (0.33.0)\n",
            "Requirement already satisfied: filelock in /usr/local/lib/python3.11/dist-packages (from huggingface-hub>=0.30.2->langchain-huggingface) (3.18.0)\n",
            "Requirement already satisfied: fsspec>=2023.5.0 in /usr/local/lib/python3.11/dist-packages (from huggingface-hub>=0.30.2->langchain-huggingface) (2024.12.0)\n",
            "Requirement already satisfied: packaging>=20.9 in /usr/local/lib/python3.11/dist-packages (from huggingface-hub>=0.30.2->langchain-huggingface) (24.2)\n",
            "Requirement already satisfied: pyyaml>=5.1 in /usr/local/lib/python3.11/dist-packages (from huggingface-hub>=0.30.2->langchain-huggingface) (6.0.2)\n",
            "Requirement already satisfied: requests in /usr/local/lib/python3.11/dist-packages (from huggingface-hub>=0.30.2->langchain-huggingface) (2.32.3)\n",
            "Requirement already satisfied: tqdm>=4.42.1 in /usr/local/lib/python3.11/dist-packages (from huggingface-hub>=0.30.2->langchain-huggingface) (4.67.1)\n",
            "Requirement already satisfied: typing-extensions>=3.7.4.3 in /usr/local/lib/python3.11/dist-packages (from huggingface-hub>=0.30.2->langchain-huggingface) (4.14.0)\n",
            "Requirement already satisfied: hf-xet<2.0.0,>=1.1.2 in /usr/local/lib/python3.11/dist-packages (from huggingface-hub>=0.30.2->langchain-huggingface) (1.1.5)\n",
            "Requirement already satisfied: langsmith>=0.3.45 in /usr/local/lib/python3.11/dist-packages (from langchain-core<1.0.0,>=0.3.65->langchain-huggingface) (0.4.1)\n",
            "Requirement already satisfied: tenacity!=8.4.0,<10.0.0,>=8.1.0 in /usr/local/lib/python3.11/dist-packages (from langchain-core<1.0.0,>=0.3.65->langchain-huggingface) (8.5.0)\n",
            "Requirement already satisfied: jsonpatch<2.0,>=1.33 in /usr/local/lib/python3.11/dist-packages (from langchain-core<1.0.0,>=0.3.65->langchain-huggingface) (1.33)\n",
            "Requirement already satisfied: pydantic>=2.7.4 in /usr/local/lib/python3.11/dist-packages (from langchain-core<1.0.0,>=0.3.65->langchain-huggingface) (2.11.7)\n",
            "Requirement already satisfied: jsonpointer>=1.9 in /usr/local/lib/python3.11/dist-packages (from jsonpatch<2.0,>=1.33->langchain-core<1.0.0,>=0.3.65->langchain-huggingface) (3.0.0)\n",
            "Requirement already satisfied: httpx<1,>=0.23.0 in /usr/local/lib/python3.11/dist-packages (from langsmith>=0.3.45->langchain-core<1.0.0,>=0.3.65->langchain-huggingface) (0.28.1)\n",
            "Requirement already satisfied: orjson<4.0.0,>=3.9.14 in /usr/local/lib/python3.11/dist-packages (from langsmith>=0.3.45->langchain-core<1.0.0,>=0.3.65->langchain-huggingface) (3.10.18)\n",
            "Requirement already satisfied: requests-toolbelt<2.0.0,>=1.0.0 in /usr/local/lib/python3.11/dist-packages (from langsmith>=0.3.45->langchain-core<1.0.0,>=0.3.65->langchain-huggingface) (1.0.0)\n",
            "Requirement already satisfied: zstandard<0.24.0,>=0.23.0 in /usr/local/lib/python3.11/dist-packages (from langsmith>=0.3.45->langchain-core<1.0.0,>=0.3.65->langchain-huggingface) (0.23.0)\n",
            "Requirement already satisfied: annotated-types>=0.6.0 in /usr/local/lib/python3.11/dist-packages (from pydantic>=2.7.4->langchain-core<1.0.0,>=0.3.65->langchain-huggingface) (0.7.0)\n",
            "Requirement already satisfied: pydantic-core==2.33.2 in /usr/local/lib/python3.11/dist-packages (from pydantic>=2.7.4->langchain-core<1.0.0,>=0.3.65->langchain-huggingface) (2.33.2)\n",
            "Requirement already satisfied: typing-inspection>=0.4.0 in /usr/local/lib/python3.11/dist-packages (from pydantic>=2.7.4->langchain-core<1.0.0,>=0.3.65->langchain-huggingface) (0.4.1)\n",
            "Requirement already satisfied: charset-normalizer<4,>=2 in /usr/local/lib/python3.11/dist-packages (from requests->huggingface-hub>=0.30.2->langchain-huggingface) (3.4.2)\n",
            "Requirement already satisfied: idna<4,>=2.5 in /usr/local/lib/python3.11/dist-packages (from requests->huggingface-hub>=0.30.2->langchain-huggingface) (3.10)\n",
            "Requirement already satisfied: urllib3<3,>=1.21.1 in /usr/local/lib/python3.11/dist-packages (from requests->huggingface-hub>=0.30.2->langchain-huggingface) (2.4.0)\n",
            "Requirement already satisfied: certifi>=2017.4.17 in /usr/local/lib/python3.11/dist-packages (from requests->huggingface-hub>=0.30.2->langchain-huggingface) (2025.6.15)\n",
            "Requirement already satisfied: anyio in /usr/local/lib/python3.11/dist-packages (from httpx<1,>=0.23.0->langsmith>=0.3.45->langchain-core<1.0.0,>=0.3.65->langchain-huggingface) (4.9.0)\n",
            "Requirement already satisfied: httpcore==1.* in /usr/local/lib/python3.11/dist-packages (from httpx<1,>=0.23.0->langsmith>=0.3.45->langchain-core<1.0.0,>=0.3.65->langchain-huggingface) (1.0.9)\n",
            "Requirement already satisfied: h11>=0.16 in /usr/local/lib/python3.11/dist-packages (from httpcore==1.*->httpx<1,>=0.23.0->langsmith>=0.3.45->langchain-core<1.0.0,>=0.3.65->langchain-huggingface) (0.16.0)\n",
            "Requirement already satisfied: sniffio>=1.1 in /usr/local/lib/python3.11/dist-packages (from anyio->httpx<1,>=0.23.0->langsmith>=0.3.45->langchain-core<1.0.0,>=0.3.65->langchain-huggingface) (1.3.1)\n"
          ]
        }
      ]
    },
    {
      "cell_type": "code",
      "source": [
        "from langchain_huggingface import HuggingFaceEmbeddings\n",
        "from langchain_community.vectorstores import Neo4jVector\n",
        "\n",
        "embeddings = HuggingFaceEmbeddings(\n",
        "    model_name=\"sentence-transformers/all-MiniLM-L6-v2\"\n",
        ")\n",
        "\n",
        "vector_index = Neo4jVector.from_existing_graph(\n",
        "    embeddings,  # Using HuggingFace embeddings instead of OpenAI\n",
        "    search_type=\"hybrid\",\n",
        "    node_label=\"Document\",\n",
        "    text_node_properties=[\"text\"],\n",
        "    embedding_node_property=\"embedding\"\n",
        ")"
      ],
      "metadata": {
        "id": "m6kPD4kMwptL"
      },
      "execution_count": 120,
      "outputs": []
    },
    {
      "cell_type": "code",
      "source": [
        "# Extract entities from text\n",
        "from langchain_core.pydantic_v1 import BaseModel, Field\n",
        "class Entities(BaseModel):\n",
        "    \"\"\"Identifying information about entities.\"\"\"\n",
        "\n",
        "    names: List[str] = Field(\n",
        "        description=\"All the person, organization, or business entities that appear in the text\"\n",
        "    )"
      ],
      "metadata": {
        "id": "uulHwNuftRxw"
      },
      "execution_count": 121,
      "outputs": []
    },
    {
      "cell_type": "code",
      "source": [
        "from langchain_core.prompts import ChatPromptTemplate\n",
        "from langchain_core.prompts.prompt import PromptTemplate\n",
        "from pydantic import BaseModel, Field"
      ],
      "metadata": {
        "id": "qAZZhfbp0NVP"
      },
      "execution_count": 122,
      "outputs": []
    },
    {
      "cell_type": "code",
      "source": [
        "prompt = ChatPromptTemplate.from_messages([\n",
        "    (\n",
        "        \"system\",\n",
        "        \"You are an expert medical assistant trained to extract structured relationships about diabetes.\"\n",
        "    ),\n",
        "    (\n",
        "        \"human\",\n",
        "        \"Extract relevant medical entities and their relationships from the following text. Include diseases, symptoms, causes, complications, medications, risk factors, and treatments. Format output for knowledge graph construction.\\nText: {question}\"\n",
        "    ),\n",
        "])"
      ],
      "metadata": {
        "id": "7Ue0H8bdtcTe"
      },
      "execution_count": 123,
      "outputs": []
    },
    {
      "cell_type": "markdown",
      "source": [
        "## 🔍 Step 1: Entity Extraction Using LLM\n",
        "We use an LLM-based chain to extract relevant medical entities from the user question.\n"
      ],
      "metadata": {
        "id": "WkE_4X8bYSTE"
      }
    },
    {
      "cell_type": "code",
      "source": [
        "entity_chain = prompt | llm.with_structured_output(Entities)"
      ],
      "metadata": {
        "id": "T-dxTiiKtcGo"
      },
      "execution_count": 124,
      "outputs": []
    },
    {
      "cell_type": "code",
      "source": [
        "entity_chain.invoke({\"question\" : \"where was Amilia Earhart born?\"}).names #extract entity from the question"
      ],
      "metadata": {
        "id": "I3OFJSd-y3SX",
        "colab": {
          "base_uri": "https://localhost:8080/"
        },
        "outputId": "2755406c-a7e6-4d5c-9b10-dd8745ea798e"
      },
      "execution_count": 125,
      "outputs": [
        {
          "output_type": "execute_result",
          "data": {
            "text/plain": [
              "['Amelia Earhart']"
            ]
          },
          "metadata": {},
          "execution_count": 125
        }
      ]
    },
    {
      "cell_type": "code",
      "source": [
        "from langchain_neo4j.vectorstores.neo4j_vector import remove_lucene_chars\n"
      ],
      "metadata": {
        "id": "prxnq5rlzZff"
      },
      "execution_count": 126,
      "outputs": []
    },
    {
      "cell_type": "markdown",
      "source": [
        "### 🔧 Utility: Full-Text Query Generator\n",
        "Generates a cleaned and formatted version of entity names for full-text index matching.\n"
      ],
      "metadata": {
        "id": "nU7imd4wYmvL"
      }
    },
    {
      "cell_type": "code",
      "source": [
        "def generate_full_text_query(input: str) -> str:\n",
        "    full_text_query = \"\"\n",
        "    words = [a for a in remove_lucene_chars(input).split() if a]\n",
        "    for word in words[:-1]:\n",
        "        full_text_query += f\" {word}~2 AND\"\n",
        "    full_text_query += f\" {words[-1]}~2\"\n",
        "    return full_text_query.strip()"
      ],
      "metadata": {
        "id": "Ze4JluZE1DSj"
      },
      "execution_count": 127,
      "outputs": []
    },
    {
      "cell_type": "markdown",
      "source": [
        "## 🧠 Step 2: Structured Graph Retrieval Function\n",
        "This function extracts entities from a question, searches Neo4j for medically relevant relationships, and returns readable answers.\n"
      ],
      "metadata": {
        "id": "1cu8tuSyYZlD"
      }
    },
    {
      "cell_type": "code",
      "source": [
        "def structured_retriever(question: str) -> str:\n",
        "    \"\"\"\n",
        "    Extract entities from the question, then search the Neo4j graph for meaningful\n",
        "    medical relationships (excluding generic 'MENTIONS'). Returns formatted output.\n",
        "    \"\"\"\n",
        "\n",
        "    result = \"\"\n",
        "\n",
        "    # Step 1: Extract entities using the entity_chain (LLM + schema)\n",
        "    try:\n",
        "        entities = entity_chain.invoke({\"question\": question})\n",
        "    except Exception as e:\n",
        "        return f\"❌ Error extracting entities: {e}\"\n",
        "\n",
        "    if not entities.names:\n",
        "        return \"⚠️ No entities found in the question.\"\n",
        "\n",
        "    # Step 2: Define medically relevant relationships\n",
        "    relevant_rels = [\n",
        "        'HAS_SYMPTOM', 'TREATED_WITH', 'HAS_SIDE_EFFECT', 'RISK_FACTOR',\n",
        "        'IS_SUBTYPE_OF', 'CAUSES', 'IS_COMPLICATION_OF',\n",
        "        'DIAGNOSED_BY', 'REQUIRES_TREATMENT', 'TREATS',\n",
        "        'MANIFESTS_IN', 'CAN_BE_PREVENTED_BY', 'CAN_CAUSE', 'PREVENTS'\n",
        "    ]\n",
        "    rel_filter = \"[\" + \",\".join(f\"'{rel}'\" for rel in relevant_rels) + \"]\"\n",
        "\n",
        "    # Step 3: Search Neo4j for each extracted entity\n",
        "    for entity in entities.names:\n",
        "        try:\n",
        "            query_text = generate_full_text_query(entity)\n",
        "\n",
        "            cypher = f\"\"\"\n",
        "            CALL db.index.fulltext.queryNodes('entity', $query, {{limit: 2}}) YIELD node, score\n",
        "            WITH node\n",
        "            MATCH (node)-[r]->(neighbor)\n",
        "            WHERE type(r) IN {rel_filter}\n",
        "            RETURN node.name AS source, type(r) AS relation, neighbor.name AS target\n",
        "            LIMIT 50\n",
        "            \"\"\"\n",
        "\n",
        "            response = graph.query(cypher, {\"query\": query_text})\n",
        "\n",
        "            if response and len(response) > 0:\n",
        "                result += f\"\\n🧠 Relations for entity **{entity}**:\\n\"\n",
        "                for row in response:\n",
        "                    result += f\"• {row['source']} -[{row['relation']}]-> {row['target']}\\n\"\n",
        "            else:\n",
        "                # Fallback: try case-insensitive matching\n",
        "                fallback_cypher = f\"\"\"\n",
        "                MATCH (node)-[r]->(neighbor)\n",
        "                WHERE toLower(node.name) CONTAINS toLower($name)\n",
        "                AND type(r) IN {rel_filter}\n",
        "                RETURN node.name AS source, type(r) AS relation, neighbor.name AS target\n",
        "                LIMIT 20\n",
        "                \"\"\"\n",
        "                fallback_response = graph.query(fallback_cypher, {\"name\": entity})\n",
        "\n",
        "                if fallback_response and len(fallback_response) > 0:\n",
        "                    result += f\"\\n🧠 (Fallback) Relations for entity **{entity}**:\\n\"\n",
        "                    for row in fallback_response:\n",
        "                        result += f\"• {row['source']} -[{row['relation']}]-> {row['target']}\\n\"\n",
        "                else:\n",
        "                    result += f\"\\n🔍 No detailed relations found for entity: {entity}\\n\"\n",
        "\n",
        "        except Exception as e:\n",
        "            result += f\"\\n⚠️ Error querying graph for '{entity}': {e}\\n\"\n",
        "\n",
        "    return result.strip() if result else \"🤷 No useful structured information found.\"\n"
      ],
      "metadata": {
        "id": "2qlYur7M1aPM"
      },
      "execution_count": 144,
      "outputs": []
    },
    {
      "cell_type": "code",
      "source": [
        "!pip install -U langchain-neo4j\n"
      ],
      "metadata": {
        "colab": {
          "base_uri": "https://localhost:8080/"
        },
        "id": "MnrDcTaryLir",
        "outputId": "0d4cdd16-8960-42e1-abbd-188548b3e21a"
      },
      "execution_count": 129,
      "outputs": [
        {
          "output_type": "stream",
          "name": "stdout",
          "text": [
            "Requirement already satisfied: langchain-neo4j in /usr/local/lib/python3.11/dist-packages (0.4.0)\n",
            "Requirement already satisfied: langchain<0.4.0,>=0.3.7 in /usr/local/lib/python3.11/dist-packages (from langchain-neo4j) (0.3.26)\n",
            "Requirement already satisfied: langchain-core<0.4.0,>=0.3.8 in /usr/local/lib/python3.11/dist-packages (from langchain-neo4j) (0.3.66)\n",
            "Requirement already satisfied: neo4j<6.0.0,>=5.25.0 in /usr/local/lib/python3.11/dist-packages (from langchain-neo4j) (5.28.1)\n",
            "Requirement already satisfied: neo4j-graphrag<2.0.0,>=1.5.0 in /usr/local/lib/python3.11/dist-packages (from langchain-neo4j) (1.7.0)\n",
            "Requirement already satisfied: langchain-text-splitters<1.0.0,>=0.3.8 in /usr/local/lib/python3.11/dist-packages (from langchain<0.4.0,>=0.3.7->langchain-neo4j) (0.3.8)\n",
            "Requirement already satisfied: langsmith>=0.1.17 in /usr/local/lib/python3.11/dist-packages (from langchain<0.4.0,>=0.3.7->langchain-neo4j) (0.4.1)\n",
            "Requirement already satisfied: pydantic<3.0.0,>=2.7.4 in /usr/local/lib/python3.11/dist-packages (from langchain<0.4.0,>=0.3.7->langchain-neo4j) (2.11.7)\n",
            "Requirement already satisfied: SQLAlchemy<3,>=1.4 in /usr/local/lib/python3.11/dist-packages (from langchain<0.4.0,>=0.3.7->langchain-neo4j) (2.0.41)\n",
            "Requirement already satisfied: requests<3,>=2 in /usr/local/lib/python3.11/dist-packages (from langchain<0.4.0,>=0.3.7->langchain-neo4j) (2.32.3)\n",
            "Requirement already satisfied: PyYAML>=5.3 in /usr/local/lib/python3.11/dist-packages (from langchain<0.4.0,>=0.3.7->langchain-neo4j) (6.0.2)\n",
            "Requirement already satisfied: tenacity!=8.4.0,<10.0.0,>=8.1.0 in /usr/local/lib/python3.11/dist-packages (from langchain-core<0.4.0,>=0.3.8->langchain-neo4j) (8.5.0)\n",
            "Requirement already satisfied: jsonpatch<2.0,>=1.33 in /usr/local/lib/python3.11/dist-packages (from langchain-core<0.4.0,>=0.3.8->langchain-neo4j) (1.33)\n",
            "Requirement already satisfied: packaging<25,>=23.2 in /usr/local/lib/python3.11/dist-packages (from langchain-core<0.4.0,>=0.3.8->langchain-neo4j) (24.2)\n",
            "Requirement already satisfied: typing-extensions>=4.7 in /usr/local/lib/python3.11/dist-packages (from langchain-core<0.4.0,>=0.3.8->langchain-neo4j) (4.14.0)\n",
            "Requirement already satisfied: pytz in /usr/local/lib/python3.11/dist-packages (from neo4j<6.0.0,>=5.25.0->langchain-neo4j) (2025.2)\n",
            "Requirement already satisfied: fsspec<2025.0.0,>=2024.9.0 in /usr/local/lib/python3.11/dist-packages (from neo4j-graphrag<2.0.0,>=1.5.0->langchain-neo4j) (2024.12.0)\n",
            "Requirement already satisfied: json-repair<0.40.0,>=0.39.1 in /usr/local/lib/python3.11/dist-packages (from neo4j-graphrag<2.0.0,>=1.5.0->langchain-neo4j) (0.39.1)\n",
            "Requirement already satisfied: pypdf<6.0.0,>=5.1.0 in /usr/local/lib/python3.11/dist-packages (from neo4j-graphrag<2.0.0,>=1.5.0->langchain-neo4j) (5.6.1)\n",
            "Requirement already satisfied: types-pyyaml<7.0.0.0,>=6.0.12.20240917 in /usr/local/lib/python3.11/dist-packages (from neo4j-graphrag<2.0.0,>=1.5.0->langchain-neo4j) (6.0.12.20250516)\n",
            "Requirement already satisfied: jsonpointer>=1.9 in /usr/local/lib/python3.11/dist-packages (from jsonpatch<2.0,>=1.33->langchain-core<0.4.0,>=0.3.8->langchain-neo4j) (3.0.0)\n",
            "Requirement already satisfied: httpx<1,>=0.23.0 in /usr/local/lib/python3.11/dist-packages (from langsmith>=0.1.17->langchain<0.4.0,>=0.3.7->langchain-neo4j) (0.28.1)\n",
            "Requirement already satisfied: orjson<4.0.0,>=3.9.14 in /usr/local/lib/python3.11/dist-packages (from langsmith>=0.1.17->langchain<0.4.0,>=0.3.7->langchain-neo4j) (3.10.18)\n",
            "Requirement already satisfied: requests-toolbelt<2.0.0,>=1.0.0 in /usr/local/lib/python3.11/dist-packages (from langsmith>=0.1.17->langchain<0.4.0,>=0.3.7->langchain-neo4j) (1.0.0)\n",
            "Requirement already satisfied: zstandard<0.24.0,>=0.23.0 in /usr/local/lib/python3.11/dist-packages (from langsmith>=0.1.17->langchain<0.4.0,>=0.3.7->langchain-neo4j) (0.23.0)\n",
            "Requirement already satisfied: annotated-types>=0.6.0 in /usr/local/lib/python3.11/dist-packages (from pydantic<3.0.0,>=2.7.4->langchain<0.4.0,>=0.3.7->langchain-neo4j) (0.7.0)\n",
            "Requirement already satisfied: pydantic-core==2.33.2 in /usr/local/lib/python3.11/dist-packages (from pydantic<3.0.0,>=2.7.4->langchain<0.4.0,>=0.3.7->langchain-neo4j) (2.33.2)\n",
            "Requirement already satisfied: typing-inspection>=0.4.0 in /usr/local/lib/python3.11/dist-packages (from pydantic<3.0.0,>=2.7.4->langchain<0.4.0,>=0.3.7->langchain-neo4j) (0.4.1)\n",
            "Requirement already satisfied: charset-normalizer<4,>=2 in /usr/local/lib/python3.11/dist-packages (from requests<3,>=2->langchain<0.4.0,>=0.3.7->langchain-neo4j) (3.4.2)\n",
            "Requirement already satisfied: idna<4,>=2.5 in /usr/local/lib/python3.11/dist-packages (from requests<3,>=2->langchain<0.4.0,>=0.3.7->langchain-neo4j) (3.10)\n",
            "Requirement already satisfied: urllib3<3,>=1.21.1 in /usr/local/lib/python3.11/dist-packages (from requests<3,>=2->langchain<0.4.0,>=0.3.7->langchain-neo4j) (2.4.0)\n",
            "Requirement already satisfied: certifi>=2017.4.17 in /usr/local/lib/python3.11/dist-packages (from requests<3,>=2->langchain<0.4.0,>=0.3.7->langchain-neo4j) (2025.6.15)\n",
            "Requirement already satisfied: greenlet>=1 in /usr/local/lib/python3.11/dist-packages (from SQLAlchemy<3,>=1.4->langchain<0.4.0,>=0.3.7->langchain-neo4j) (3.2.3)\n",
            "Requirement already satisfied: anyio in /usr/local/lib/python3.11/dist-packages (from httpx<1,>=0.23.0->langsmith>=0.1.17->langchain<0.4.0,>=0.3.7->langchain-neo4j) (4.9.0)\n",
            "Requirement already satisfied: httpcore==1.* in /usr/local/lib/python3.11/dist-packages (from httpx<1,>=0.23.0->langsmith>=0.1.17->langchain<0.4.0,>=0.3.7->langchain-neo4j) (1.0.9)\n",
            "Requirement already satisfied: h11>=0.16 in /usr/local/lib/python3.11/dist-packages (from httpcore==1.*->httpx<1,>=0.23.0->langsmith>=0.1.17->langchain<0.4.0,>=0.3.7->langchain-neo4j) (0.16.0)\n",
            "Requirement already satisfied: sniffio>=1.1 in /usr/local/lib/python3.11/dist-packages (from anyio->httpx<1,>=0.23.0->langsmith>=0.1.17->langchain<0.4.0,>=0.3.7->langchain-neo4j) (1.3.1)\n"
          ]
        }
      ]
    },
    {
      "cell_type": "markdown",
      "source": [
        "## ✅ Step 3: Test the System with Example Questions\n",
        "Ask questions like \"What are the treatments for Type 2 Diabetes?\" and get graph-based answers.\n"
      ],
      "metadata": {
        "id": "CvdLOFggY6nL"
      }
    },
    {
      "cell_type": "code",
      "source": [
        "print(structured_retriever(\"what are the types of diabetes?\"))"
      ],
      "metadata": {
        "id": "piUDG9nN11AL",
        "colab": {
          "base_uri": "https://localhost:8080/"
        },
        "outputId": "355a9902-e096-4a7b-c834-18f193200273"
      },
      "execution_count": 145,
      "outputs": [
        {
          "output_type": "stream",
          "name": "stderr",
          "text": [
            "WARNING:neo4j.notifications:Received notification from DBMS server: {severity: WARNING} {code: Neo.ClientNotification.Statement.FeatureDeprecationWarning} {category: DEPRECATION} {title: This feature is deprecated and will be removed in future versions.} {description: CALL subquery without a variable scope clause is now deprecated. Use CALL () { ... }} {position: line: 2, column: 13, offset: 13} for query: \"\\n            CALL {\\n                CALL db.index.fulltext.queryNodes('entity', $query, {limit: 2}) YIELD node, score\\n                RETURN node\\n            }\\n            WITH node\\n            MATCH (node)-[r]->(neighbor)\\n            WHERE type(r) IN ['HAS_SYMPTOM','TREATED_WITH','HAS_SIDE_EFFECT','RISK_FACTOR','IS_SUBTYPE_OF','CAUSES','IS_COMPLICATION_OF','DIAGNOSED_BY','REQUIRES_TREATMENT','TREATS','MANIFESTS_IN','CAN_BE_PREVENTED_BY','CAN_CAUSE','PREVENTS']\\n            RETURN node.name AS source, type(r) AS relation, neighbor.name AS target\\n            LIMIT 50\\n            \"\n",
            "WARNING:neo4j.notifications:Received notification from DBMS server: {severity: WARNING} {code: Neo.ClientNotification.Statement.FeatureDeprecationWarning} {category: DEPRECATION} {title: This feature is deprecated and will be removed in future versions.} {description: CALL subquery without a variable scope clause is now deprecated. Use CALL () { ... }} {position: line: 2, column: 13, offset: 13} for query: \"\\n            CALL {\\n                CALL db.index.fulltext.queryNodes('entity', $query, {limit: 2}) YIELD node, score\\n                RETURN node\\n            }\\n            WITH node\\n            MATCH (node)-[r]->(neighbor)\\n            WHERE type(r) IN ['HAS_SYMPTOM','TREATED_WITH','HAS_SIDE_EFFECT','RISK_FACTOR','IS_SUBTYPE_OF','CAUSES','IS_COMPLICATION_OF','DIAGNOSED_BY','REQUIRES_TREATMENT','TREATS','MANIFESTS_IN','CAN_BE_PREVENTED_BY','CAN_CAUSE','PREVENTS']\\n            RETURN node.name AS source, type(r) AS relation, neighbor.name AS target\\n            LIMIT 50\\n            \"\n",
            "WARNING:neo4j.notifications:Received notification from DBMS server: {severity: WARNING} {code: Neo.ClientNotification.Statement.FeatureDeprecationWarning} {category: DEPRECATION} {title: This feature is deprecated and will be removed in future versions.} {description: CALL subquery without a variable scope clause is now deprecated. Use CALL () { ... }} {position: line: 2, column: 13, offset: 13} for query: \"\\n            CALL {\\n                CALL db.index.fulltext.queryNodes('entity', $query, {limit: 2}) YIELD node, score\\n                RETURN node\\n            }\\n            WITH node\\n            MATCH (node)-[r]->(neighbor)\\n            WHERE type(r) IN ['HAS_SYMPTOM','TREATED_WITH','HAS_SIDE_EFFECT','RISK_FACTOR','IS_SUBTYPE_OF','CAUSES','IS_COMPLICATION_OF','DIAGNOSED_BY','REQUIRES_TREATMENT','TREATS','MANIFESTS_IN','CAN_BE_PREVENTED_BY','CAN_CAUSE','PREVENTS']\\n            RETURN node.name AS source, type(r) AS relation, neighbor.name AS target\\n            LIMIT 50\\n            \"\n",
            "WARNING:neo4j.notifications:Received notification from DBMS server: {severity: WARNING} {code: Neo.ClientNotification.Statement.FeatureDeprecationWarning} {category: DEPRECATION} {title: This feature is deprecated and will be removed in future versions.} {description: CALL subquery without a variable scope clause is now deprecated. Use CALL () { ... }} {position: line: 2, column: 13, offset: 13} for query: \"\\n            CALL {\\n                CALL db.index.fulltext.queryNodes('entity', $query, {limit: 2}) YIELD node, score\\n                RETURN node\\n            }\\n            WITH node\\n            MATCH (node)-[r]->(neighbor)\\n            WHERE type(r) IN ['HAS_SYMPTOM','TREATED_WITH','HAS_SIDE_EFFECT','RISK_FACTOR','IS_SUBTYPE_OF','CAUSES','IS_COMPLICATION_OF','DIAGNOSED_BY','REQUIRES_TREATMENT','TREATS','MANIFESTS_IN','CAN_BE_PREVENTED_BY','CAN_CAUSE','PREVENTS']\\n            RETURN node.name AS source, type(r) AS relation, neighbor.name AS target\\n            LIMIT 50\\n            \"\n",
            "WARNING:neo4j.notifications:Received notification from DBMS server: {severity: WARNING} {code: Neo.ClientNotification.Statement.FeatureDeprecationWarning} {category: DEPRECATION} {title: This feature is deprecated and will be removed in future versions.} {description: CALL subquery without a variable scope clause is now deprecated. Use CALL () { ... }} {position: line: 2, column: 13, offset: 13} for query: \"\\n            CALL {\\n                CALL db.index.fulltext.queryNodes('entity', $query, {limit: 2}) YIELD node, score\\n                RETURN node\\n            }\\n            WITH node\\n            MATCH (node)-[r]->(neighbor)\\n            WHERE type(r) IN ['HAS_SYMPTOM','TREATED_WITH','HAS_SIDE_EFFECT','RISK_FACTOR','IS_SUBTYPE_OF','CAUSES','IS_COMPLICATION_OF','DIAGNOSED_BY','REQUIRES_TREATMENT','TREATS','MANIFESTS_IN','CAN_BE_PREVENTED_BY','CAN_CAUSE','PREVENTS']\\n            RETURN node.name AS source, type(r) AS relation, neighbor.name AS target\\n            LIMIT 50\\n            \"\n"
          ]
        },
        {
          "output_type": "stream",
          "name": "stdout",
          "text": [
            "🧠 (Fallback) Relations for entity **Diabetes**:\n",
            "• Type 2 Diabetes -[IS_SUBTYPE_OF]-> Diabetes\n",
            "• Type 2 Diabetes -[HAS_SYMPTOM]-> Frequent urination\n",
            "• Type 2 Diabetes -[TREATED_WITH]-> Metformin\n",
            "• Type 2 Diabetes -[RISK_FACTOR]-> Obesity\n",
            "• Type 1 Diabetes -[IS_SUBTYPE_OF]-> Diabetes\n",
            "• Gestational Diabetes -[IS_SUBTYPE_OF]-> Diabetes\n",
            "• LADA Diabetes -[IS_SUBTYPE_OF]-> Diabetes\n",
            "\n",
            "🧠 (Fallback) Relations for entity **Type 1 Diabetes**:\n",
            "• Type 1 Diabetes -[IS_SUBTYPE_OF]-> Diabetes\n",
            "\n",
            "🧠 (Fallback) Relations for entity **Type 2 Diabetes**:\n",
            "• Type 2 Diabetes -[IS_SUBTYPE_OF]-> Diabetes\n",
            "• Type 2 Diabetes -[HAS_SYMPTOM]-> Frequent urination\n",
            "• Type 2 Diabetes -[TREATED_WITH]-> Metformin\n",
            "• Type 2 Diabetes -[RISK_FACTOR]-> Obesity\n",
            "\n",
            "🧠 (Fallback) Relations for entity **Gestational Diabetes**:\n",
            "• Gestational Diabetes -[IS_SUBTYPE_OF]-> Diabetes\n",
            "\n",
            "🧠 (Fallback) Relations for entity **LADA Diabetes**:\n",
            "• LADA Diabetes -[IS_SUBTYPE_OF]-> Diabetes\n"
          ]
        }
      ]
    },
    {
      "cell_type": "code",
      "source": [
        "def retriever(question: str) -> str:\n",
        "    print(f\"Search query: {question}\")\n",
        "    structured_data = structured_retriever(question)\n",
        "    unstructured_data = [el.page_content for el in vector_index.similarity_search(question)]\n",
        "    final_data = f\"\"\"Structured data:\n",
        "{structured_data}\n",
        "\n",
        "Unstructured data:\n",
        "{\"#Document \".join(unstructured_data)}\n",
        "\"\"\"\n",
        "    return final_data"
      ],
      "metadata": {
        "id": "uhLUucGY18WF"
      },
      "execution_count": 146,
      "outputs": []
    },
    {
      "cell_type": "code",
      "source": [
        "template = \"\"\"Given the following conversation and a follow up question, rephrase the follow up question in its original language.\n",
        "Chat History:\n",
        "{chat_history}\n",
        "Follow Up Input: {question}\n",
        "Standalone question:\"\"\""
      ],
      "metadata": {
        "id": "QW-7kfo-2GOm"
      },
      "execution_count": 147,
      "outputs": []
    },
    {
      "cell_type": "code",
      "source": [
        "CONDENSE_QUESTION_PROMPT = PromptTemplate.from_template(template)"
      ],
      "metadata": {
        "id": "w53JMzbH22eq"
      },
      "execution_count": 148,
      "outputs": []
    },
    {
      "cell_type": "code",
      "source": [
        "from langchain_core.messages import HumanMessage, AIMessage\n"
      ],
      "metadata": {
        "id": "eQ9Wd28d6IfI"
      },
      "execution_count": 149,
      "outputs": []
    },
    {
      "cell_type": "code",
      "source": [
        "def _format_chat_history(chat_history: List[Tuple[str, str]]) -> List:\n",
        "    buffer = []\n",
        "    for human, ai in chat_history:\n",
        "        buffer.append(HumanMessage(content=human))\n",
        "        buffer.append(AIMessage(content=ai))\n",
        "    return buffer\n"
      ],
      "metadata": {
        "id": "uqyMh9ub22Uw"
      },
      "execution_count": 150,
      "outputs": []
    },
    {
      "cell_type": "code",
      "source": [
        "from langchain_core.runnables import (\n",
        "    RunnableBranch,\n",
        "    RunnableLambda,\n",
        "    RunnablePassthrough,\n",
        "    RunnableParallel\n",
        ")\n",
        "from langchain.prompts import PromptTemplate\n",
        "from langchain_core.output_parsers import StrOutputParser"
      ],
      "metadata": {
        "id": "w6HeOCg_0ApP"
      },
      "execution_count": 151,
      "outputs": []
    },
    {
      "cell_type": "code",
      "source": [
        "# The RunnableBranch logic using Groq\n",
        "search_query = RunnableBranch(\n",
        "    # If there's chat history → condense it using Groq LLM\n",
        "    (\n",
        "        RunnableLambda(lambda x: bool(x.get(\"chat_history\"))).with_config(\n",
        "            run_name='HasChatHistoryCheck'\n",
        "        ),\n",
        "        RunnablePassthrough.assign(\n",
        "            chat_history=lambda x: _format_chat_history(x[\"chat_history\"])\n",
        "        )\n",
        "        | CONDENSE_QUESTION_PROMPT\n",
        "        | llm  # 👈 your ChatGroq instance\n",
        "        | StrOutputParser(),\n",
        "    ),\n",
        "    # Else → just return the question as-is\n",
        "    RunnableLambda(lambda x: x[\"question\"]),\n",
        ")"
      ],
      "metadata": {
        "id": "XCir4jp83XWA"
      },
      "execution_count": 152,
      "outputs": []
    },
    {
      "cell_type": "code",
      "source": [
        "template = \"\"\"\n",
        "You are a helpful medical assistant. Use only the information in the context below to answer the user's question.\n",
        "\n",
        "Context:\n",
        "{context}\n",
        "\n",
        "Question:\n",
        "{question}\n",
        "\n",
        "Instructions:\n",
        "- Use natural, fluent language.\n",
        "- Be accurate and concise.\n",
        "- Do NOT include information not found in the context.\n",
        "\n",
        "Answer:\n",
        "\"\"\"\n"
      ],
      "metadata": {
        "id": "albtueH23bLq"
      },
      "execution_count": 153,
      "outputs": []
    },
    {
      "cell_type": "code",
      "source": [
        "prompt = ChatPromptTemplate.from_template(template)"
      ],
      "metadata": {
        "id": "79wmj2oZ3t36"
      },
      "execution_count": 154,
      "outputs": []
    },
    {
      "cell_type": "code",
      "source": [
        "chain = (\n",
        "    RunnableParallel({\n",
        "        \"context\": search_query | retriever,\n",
        "        \"question\": RunnablePassthrough(),\n",
        "    })\n",
        "    | prompt\n",
        "    | llm\n",
        "    | StrOutputParser()\n",
        ")"
      ],
      "metadata": {
        "id": "X5p9_QVp3yT5"
      },
      "execution_count": 155,
      "outputs": []
    },
    {
      "cell_type": "code",
      "source": [
        "chain.invoke({\"question\": \"What are the symptoms of Type 2 diabetes?\"})"
      ],
      "metadata": {
        "id": "LRBbvTOc4DeZ",
        "colab": {
          "base_uri": "https://localhost:8080/",
          "height": 125
        },
        "outputId": "90adfe70-c9b1-4d8c-f9e0-59f8e284ae77"
      },
      "execution_count": 141,
      "outputs": [
        {
          "output_type": "stream",
          "name": "stdout",
          "text": [
            "Search query: What are the symptoms of Type 2 diabetes?\n"
          ]
        },
        {
          "output_type": "stream",
          "name": "stderr",
          "text": [
            "WARNING:neo4j.notifications:Received notification from DBMS server: {severity: WARNING} {code: Neo.ClientNotification.Statement.FeatureDeprecationWarning} {category: DEPRECATION} {title: This feature is deprecated and will be removed in future versions.} {description: CALL subquery without a variable scope clause is now deprecated. Use CALL () { ... }} {position: line: 1, column: 1, offset: 0} for query: \"CALL { CALL db.index.vector.queryNodes($index, $k, $embedding) YIELD node, score WITH collect({node:node, score:score}) AS nodes, max(score) AS max UNWIND nodes AS n RETURN n.node AS node, (n.score / max) AS score UNION CALL db.index.fulltext.queryNodes($keyword_index, $query, {limit: $k}) YIELD node, score WITH collect({node:node, score:score}) AS nodes, max(score) AS max UNWIND nodes AS n RETURN n.node AS node, (n.score / max) AS score } WITH node, max(score) AS score ORDER BY score DESC LIMIT $k RETURN reduce(str='', k IN ['text'] | str + '\\\\n' + k + ': ' + coalesce(node[k], '')) AS text, node {.*, `embedding`: Null, id: Null, `text`: Null} AS metadata, score\"\n"
          ]
        },
        {
          "output_type": "execute_result",
          "data": {
            "text/plain": [
              "'According to the structured data, the symptoms of Type 2 diabetes include:\\n\\n* Frequent urination\\n\\nAccording to the unstructured data, the symptoms of Type 2 diabetes may also include:\\n\\n* Polydipsia (excessive thirst)\\n* Polyuria (excessive urination)\\n* Polyphagia (excessive hunger)\\n* Weight loss\\n* Blurred vision\\n* Fatigue\\n* Sweet smelling urine/semen\\n* Genital itchiness due to Candida infection'"
            ],
            "application/vnd.google.colaboratory.intrinsic+json": {
              "type": "string"
            }
          },
          "metadata": {},
          "execution_count": 141
        }
      ]
    },
    {
      "cell_type": "code",
      "source": [
        "chain.invoke({\"question\": \"How is Type 1 diabetes managed?\"})"
      ],
      "metadata": {
        "colab": {
          "base_uri": "https://localhost:8080/",
          "height": 142
        },
        "id": "vVHud5-oZAxK",
        "outputId": "ab177101-4847-44dd-a0d7-af4333a0977c"
      },
      "execution_count": 158,
      "outputs": [
        {
          "output_type": "stream",
          "name": "stdout",
          "text": [
            "Search query: How is Type 1 diabetes managed?\n"
          ]
        },
        {
          "output_type": "stream",
          "name": "stderr",
          "text": [
            "WARNING:neo4j.notifications:Received notification from DBMS server: {severity: WARNING} {code: Neo.ClientNotification.Statement.FeatureDeprecationWarning} {category: DEPRECATION} {title: This feature is deprecated and will be removed in future versions.} {description: CALL subquery without a variable scope clause is now deprecated. Use CALL () { ... }} {position: line: 2, column: 13, offset: 13} for query: \"\\n            CALL {\\n                CALL db.index.fulltext.queryNodes('entity', $query, {limit: 2}) YIELD node, score\\n                RETURN node\\n            }\\n            WITH node\\n            MATCH (node)-[r]->(neighbor)\\n            WHERE type(r) IN ['HAS_SYMPTOM','TREATED_WITH','HAS_SIDE_EFFECT','RISK_FACTOR','IS_SUBTYPE_OF','CAUSES','IS_COMPLICATION_OF','DIAGNOSED_BY','REQUIRES_TREATMENT','TREATS','MANIFESTS_IN','CAN_BE_PREVENTED_BY','CAN_CAUSE','PREVENTS']\\n            RETURN node.name AS source, type(r) AS relation, neighbor.name AS target\\n            LIMIT 50\\n            \"\n",
            "WARNING:neo4j.notifications:Received notification from DBMS server: {severity: WARNING} {code: Neo.ClientNotification.Statement.FeatureDeprecationWarning} {category: DEPRECATION} {title: This feature is deprecated and will be removed in future versions.} {description: CALL subquery without a variable scope clause is now deprecated. Use CALL () { ... }} {position: line: 2, column: 13, offset: 13} for query: \"\\n            CALL {\\n                CALL db.index.fulltext.queryNodes('entity', $query, {limit: 2}) YIELD node, score\\n                RETURN node\\n            }\\n            WITH node\\n            MATCH (node)-[r]->(neighbor)\\n            WHERE type(r) IN ['HAS_SYMPTOM','TREATED_WITH','HAS_SIDE_EFFECT','RISK_FACTOR','IS_SUBTYPE_OF','CAUSES','IS_COMPLICATION_OF','DIAGNOSED_BY','REQUIRES_TREATMENT','TREATS','MANIFESTS_IN','CAN_BE_PREVENTED_BY','CAN_CAUSE','PREVENTS']\\n            RETURN node.name AS source, type(r) AS relation, neighbor.name AS target\\n            LIMIT 50\\n            \"\n",
            "WARNING:neo4j.notifications:Received notification from DBMS server: {severity: WARNING} {code: Neo.ClientNotification.Statement.FeatureDeprecationWarning} {category: DEPRECATION} {title: This feature is deprecated and will be removed in future versions.} {description: CALL subquery without a variable scope clause is now deprecated. Use CALL () { ... }} {position: line: 1, column: 1, offset: 0} for query: \"CALL { CALL db.index.vector.queryNodes($index, $k, $embedding) YIELD node, score WITH collect({node:node, score:score}) AS nodes, max(score) AS max UNWIND nodes AS n RETURN n.node AS node, (n.score / max) AS score UNION CALL db.index.fulltext.queryNodes($keyword_index, $query, {limit: $k}) YIELD node, score WITH collect({node:node, score:score}) AS nodes, max(score) AS max UNWIND nodes AS n RETURN n.node AS node, (n.score / max) AS score } WITH node, max(score) AS score ORDER BY score DESC LIMIT $k RETURN reduce(str='', k IN ['text'] | str + '\\\\n' + k + ': ' + coalesce(node[k], '')) AS text, node {.*, `embedding`: Null, id: Null, `text`: Null} AS metadata, score\"\n"
          ]
        },
        {
          "output_type": "execute_result",
          "data": {
            "text/plain": [
              "'Type 1 diabetes is managed through a combination of dietary changes, exercise, weight loss, and use of appropriate medications (insulin, oral medications). Additionally, learning about the disease and actively participating in treatment is important to prevent complications.'"
            ],
            "application/vnd.google.colaboratory.intrinsic+json": {
              "type": "string"
            }
          },
          "metadata": {},
          "execution_count": 158
        }
      ]
    },
    {
      "cell_type": "code",
      "source": [
        "chain.invoke({\"question\": \"Can obesity cause Type 2 diabetes?\"})"
      ],
      "metadata": {
        "colab": {
          "base_uri": "https://localhost:8080/",
          "height": 125
        },
        "id": "c1OboZDeZWFy",
        "outputId": "fc85c342-5c51-4f7a-cae6-75d672b83a3b"
      },
      "execution_count": 159,
      "outputs": [
        {
          "output_type": "stream",
          "name": "stdout",
          "text": [
            "Search query: Can obesity cause Type 2 diabetes?\n"
          ]
        },
        {
          "output_type": "stream",
          "name": "stderr",
          "text": [
            "WARNING:neo4j.notifications:Received notification from DBMS server: {severity: WARNING} {code: Neo.ClientNotification.Statement.FeatureDeprecationWarning} {category: DEPRECATION} {title: This feature is deprecated and will be removed in future versions.} {description: CALL subquery without a variable scope clause is now deprecated. Use CALL () { ... }} {position: line: 2, column: 13, offset: 13} for query: \"\\n            CALL {\\n                CALL db.index.fulltext.queryNodes('entity', $query, {limit: 2}) YIELD node, score\\n                RETURN node\\n            }\\n            WITH node\\n            MATCH (node)-[r]->(neighbor)\\n            WHERE type(r) IN ['HAS_SYMPTOM','TREATED_WITH','HAS_SIDE_EFFECT','RISK_FACTOR','IS_SUBTYPE_OF','CAUSES','IS_COMPLICATION_OF','DIAGNOSED_BY','REQUIRES_TREATMENT','TREATS','MANIFESTS_IN','CAN_BE_PREVENTED_BY','CAN_CAUSE','PREVENTS']\\n            RETURN node.name AS source, type(r) AS relation, neighbor.name AS target\\n            LIMIT 50\\n            \"\n",
            "WARNING:neo4j.notifications:Received notification from DBMS server: {severity: WARNING} {code: Neo.ClientNotification.Statement.FeatureDeprecationWarning} {category: DEPRECATION} {title: This feature is deprecated and will be removed in future versions.} {description: CALL subquery without a variable scope clause is now deprecated. Use CALL () { ... }} {position: line: 2, column: 13, offset: 13} for query: \"\\n            CALL {\\n                CALL db.index.fulltext.queryNodes('entity', $query, {limit: 2}) YIELD node, score\\n                RETURN node\\n            }\\n            WITH node\\n            MATCH (node)-[r]->(neighbor)\\n            WHERE type(r) IN ['HAS_SYMPTOM','TREATED_WITH','HAS_SIDE_EFFECT','RISK_FACTOR','IS_SUBTYPE_OF','CAUSES','IS_COMPLICATION_OF','DIAGNOSED_BY','REQUIRES_TREATMENT','TREATS','MANIFESTS_IN','CAN_BE_PREVENTED_BY','CAN_CAUSE','PREVENTS']\\n            RETURN node.name AS source, type(r) AS relation, neighbor.name AS target\\n            LIMIT 50\\n            \"\n",
            "WARNING:neo4j.notifications:Received notification from DBMS server: {severity: WARNING} {code: Neo.ClientNotification.Statement.FeatureDeprecationWarning} {category: DEPRECATION} {title: This feature is deprecated and will be removed in future versions.} {description: CALL subquery without a variable scope clause is now deprecated. Use CALL () { ... }} {position: line: 1, column: 1, offset: 0} for query: \"CALL { CALL db.index.vector.queryNodes($index, $k, $embedding) YIELD node, score WITH collect({node:node, score:score}) AS nodes, max(score) AS max UNWIND nodes AS n RETURN n.node AS node, (n.score / max) AS score UNION CALL db.index.fulltext.queryNodes($keyword_index, $query, {limit: $k}) YIELD node, score WITH collect({node:node, score:score}) AS nodes, max(score) AS max UNWIND nodes AS n RETURN n.node AS node, (n.score / max) AS score } WITH node, max(score) AS score ORDER BY score DESC LIMIT $k RETURN reduce(str='', k IN ['text'] | str + '\\\\n' + k + ': ' + coalesce(node[k], '')) AS text, node {.*, `embedding`: Null, id: Null, `text`: Null} AS metadata, score\"\n"
          ]
        },
        {
          "output_type": "execute_result",
          "data": {
            "text/plain": [
              "'Yes, obesity is a risk factor for Type 2 diabetes.'"
            ],
            "application/vnd.google.colaboratory.intrinsic+json": {
              "type": "string"
            }
          },
          "metadata": {},
          "execution_count": 159
        }
      ]
    },
    {
      "cell_type": "code",
      "source": [
        "chain.invoke({\"question\": \"How is Type 2 diabetes different from Type 1?\"})"
      ],
      "metadata": {
        "colab": {
          "base_uri": "https://localhost:8080/",
          "height": 160
        },
        "id": "K5XqQYROZb6T",
        "outputId": "9a1b2598-1b72-4558-bd2d-764c1da49337"
      },
      "execution_count": 160,
      "outputs": [
        {
          "output_type": "stream",
          "name": "stdout",
          "text": [
            "Search query: How is Type 2 diabetes different from Type 1?\n"
          ]
        },
        {
          "output_type": "stream",
          "name": "stderr",
          "text": [
            "WARNING:neo4j.notifications:Received notification from DBMS server: {severity: WARNING} {code: Neo.ClientNotification.Statement.FeatureDeprecationWarning} {category: DEPRECATION} {title: This feature is deprecated and will be removed in future versions.} {description: CALL subquery without a variable scope clause is now deprecated. Use CALL () { ... }} {position: line: 2, column: 13, offset: 13} for query: \"\\n            CALL {\\n                CALL db.index.fulltext.queryNodes('entity', $query, {limit: 2}) YIELD node, score\\n                RETURN node\\n            }\\n            WITH node\\n            MATCH (node)-[r]->(neighbor)\\n            WHERE type(r) IN ['HAS_SYMPTOM','TREATED_WITH','HAS_SIDE_EFFECT','RISK_FACTOR','IS_SUBTYPE_OF','CAUSES','IS_COMPLICATION_OF','DIAGNOSED_BY','REQUIRES_TREATMENT','TREATS','MANIFESTS_IN','CAN_BE_PREVENTED_BY','CAN_CAUSE','PREVENTS']\\n            RETURN node.name AS source, type(r) AS relation, neighbor.name AS target\\n            LIMIT 50\\n            \"\n",
            "WARNING:neo4j.notifications:Received notification from DBMS server: {severity: WARNING} {code: Neo.ClientNotification.Statement.FeatureDeprecationWarning} {category: DEPRECATION} {title: This feature is deprecated and will be removed in future versions.} {description: CALL subquery without a variable scope clause is now deprecated. Use CALL () { ... }} {position: line: 2, column: 13, offset: 13} for query: \"\\n            CALL {\\n                CALL db.index.fulltext.queryNodes('entity', $query, {limit: 2}) YIELD node, score\\n                RETURN node\\n            }\\n            WITH node\\n            MATCH (node)-[r]->(neighbor)\\n            WHERE type(r) IN ['HAS_SYMPTOM','TREATED_WITH','HAS_SIDE_EFFECT','RISK_FACTOR','IS_SUBTYPE_OF','CAUSES','IS_COMPLICATION_OF','DIAGNOSED_BY','REQUIRES_TREATMENT','TREATS','MANIFESTS_IN','CAN_BE_PREVENTED_BY','CAN_CAUSE','PREVENTS']\\n            RETURN node.name AS source, type(r) AS relation, neighbor.name AS target\\n            LIMIT 50\\n            \"\n",
            "WARNING:neo4j.notifications:Received notification from DBMS server: {severity: WARNING} {code: Neo.ClientNotification.Statement.FeatureDeprecationWarning} {category: DEPRECATION} {title: This feature is deprecated and will be removed in future versions.} {description: CALL subquery without a variable scope clause is now deprecated. Use CALL () { ... }} {position: line: 1, column: 1, offset: 0} for query: \"CALL { CALL db.index.vector.queryNodes($index, $k, $embedding) YIELD node, score WITH collect({node:node, score:score}) AS nodes, max(score) AS max UNWIND nodes AS n RETURN n.node AS node, (n.score / max) AS score UNION CALL db.index.fulltext.queryNodes($keyword_index, $query, {limit: $k}) YIELD node, score WITH collect({node:node, score:score}) AS nodes, max(score) AS max UNWIND nodes AS n RETURN n.node AS node, (n.score / max) AS score } WITH node, max(score) AS score ORDER BY score DESC LIMIT $k RETURN reduce(str='', k IN ['text'] | str + '\\\\n' + k + ': ' + coalesce(node[k], '')) AS text, node {.*, `embedding`: Null, id: Null, `text`: Null} AS metadata, score\"\n"
          ]
        },
        {
          "output_type": "execute_result",
          "data": {
            "text/plain": [
              "\"Type 2 diabetes is different from Type 1 diabetes in that it is not an autoimmune condition, but rather a metabolic disorder caused by insulin resistance, where the body's cells become less responsive to insulin. In contrast, Type 1 diabetes is an autoimmune condition where the body's immune system attacks and destroys the insulin-producing beta cells in the pancreas, resulting in a lack of insulin production.\""
            ],
            "application/vnd.google.colaboratory.intrinsic+json": {
              "type": "string"
            }
          },
          "metadata": {},
          "execution_count": 160
        }
      ]
    },
    {
      "cell_type": "code",
      "source": [
        "chain.invoke({\"question\": \"What lifestyle changes reduce diabetes risk?\"})"
      ],
      "metadata": {
        "colab": {
          "base_uri": "https://localhost:8080/",
          "height": 177
        },
        "id": "QXlMebmyZmQB",
        "outputId": "df4bece5-f7d4-4fb7-cc4c-af3853f7a43c"
      },
      "execution_count": 161,
      "outputs": [
        {
          "output_type": "stream",
          "name": "stdout",
          "text": [
            "Search query: What lifestyle changes reduce diabetes risk?\n"
          ]
        },
        {
          "output_type": "stream",
          "name": "stderr",
          "text": [
            "WARNING:neo4j.notifications:Received notification from DBMS server: {severity: WARNING} {code: Neo.ClientNotification.Statement.FeatureDeprecationWarning} {category: DEPRECATION} {title: This feature is deprecated and will be removed in future versions.} {description: CALL subquery without a variable scope clause is now deprecated. Use CALL () { ... }} {position: line: 2, column: 13, offset: 13} for query: \"\\n            CALL {\\n                CALL db.index.fulltext.queryNodes('entity', $query, {limit: 2}) YIELD node, score\\n                RETURN node\\n            }\\n            WITH node\\n            MATCH (node)-[r]->(neighbor)\\n            WHERE type(r) IN ['HAS_SYMPTOM','TREATED_WITH','HAS_SIDE_EFFECT','RISK_FACTOR','IS_SUBTYPE_OF','CAUSES','IS_COMPLICATION_OF','DIAGNOSED_BY','REQUIRES_TREATMENT','TREATS','MANIFESTS_IN','CAN_BE_PREVENTED_BY','CAN_CAUSE','PREVENTS']\\n            RETURN node.name AS source, type(r) AS relation, neighbor.name AS target\\n            LIMIT 50\\n            \"\n",
            "WARNING:neo4j.notifications:Received notification from DBMS server: {severity: WARNING} {code: Neo.ClientNotification.Statement.FeatureDeprecationWarning} {category: DEPRECATION} {title: This feature is deprecated and will be removed in future versions.} {description: CALL subquery without a variable scope clause is now deprecated. Use CALL () { ... }} {position: line: 2, column: 13, offset: 13} for query: \"\\n            CALL {\\n                CALL db.index.fulltext.queryNodes('entity', $query, {limit: 2}) YIELD node, score\\n                RETURN node\\n            }\\n            WITH node\\n            MATCH (node)-[r]->(neighbor)\\n            WHERE type(r) IN ['HAS_SYMPTOM','TREATED_WITH','HAS_SIDE_EFFECT','RISK_FACTOR','IS_SUBTYPE_OF','CAUSES','IS_COMPLICATION_OF','DIAGNOSED_BY','REQUIRES_TREATMENT','TREATS','MANIFESTS_IN','CAN_BE_PREVENTED_BY','CAN_CAUSE','PREVENTS']\\n            RETURN node.name AS source, type(r) AS relation, neighbor.name AS target\\n            LIMIT 50\\n            \"\n",
            "WARNING:neo4j.notifications:Received notification from DBMS server: {severity: WARNING} {code: Neo.ClientNotification.Statement.FeatureDeprecationWarning} {category: DEPRECATION} {title: This feature is deprecated and will be removed in future versions.} {description: CALL subquery without a variable scope clause is now deprecated. Use CALL () { ... }} {position: line: 2, column: 13, offset: 13} for query: \"\\n            CALL {\\n                CALL db.index.fulltext.queryNodes('entity', $query, {limit: 2}) YIELD node, score\\n                RETURN node\\n            }\\n            WITH node\\n            MATCH (node)-[r]->(neighbor)\\n            WHERE type(r) IN ['HAS_SYMPTOM','TREATED_WITH','HAS_SIDE_EFFECT','RISK_FACTOR','IS_SUBTYPE_OF','CAUSES','IS_COMPLICATION_OF','DIAGNOSED_BY','REQUIRES_TREATMENT','TREATS','MANIFESTS_IN','CAN_BE_PREVENTED_BY','CAN_CAUSE','PREVENTS']\\n            RETURN node.name AS source, type(r) AS relation, neighbor.name AS target\\n            LIMIT 50\\n            \"\n",
            "WARNING:neo4j.notifications:Received notification from DBMS server: {severity: WARNING} {code: Neo.ClientNotification.Statement.FeatureDeprecationWarning} {category: DEPRECATION} {title: This feature is deprecated and will be removed in future versions.} {description: CALL subquery without a variable scope clause is now deprecated. Use CALL () { ... }} {position: line: 1, column: 1, offset: 0} for query: \"CALL { CALL db.index.vector.queryNodes($index, $k, $embedding) YIELD node, score WITH collect({node:node, score:score}) AS nodes, max(score) AS max UNWIND nodes AS n RETURN n.node AS node, (n.score / max) AS score UNION CALL db.index.fulltext.queryNodes($keyword_index, $query, {limit: $k}) YIELD node, score WITH collect({node:node, score:score}) AS nodes, max(score) AS max UNWIND nodes AS n RETURN n.node AS node, (n.score / max) AS score } WITH node, max(score) AS score ORDER BY score DESC LIMIT $k RETURN reduce(str='', k IN ['text'] | str + '\\\\n' + k + ': ' + coalesce(node[k], '')) AS text, node {.*, `embedding`: Null, id: Null, `text`: Null} AS metadata, score\"\n"
          ]
        },
        {
          "output_type": "execute_result",
          "data": {
            "text/plain": [
              "'According to the unstructured data, lifestyle changes that reduce diabetes risk include:\\n\\n* Maintaining a normal body weight\\n* Engaging in physical activity (more than 90 minutes per day)\\n* Eating a healthy diet rich in whole grains and fiber, and choosing good fats\\n* Limiting sugary beverages and eating less red meat and other sources of saturated fat\\n* Quitting tobacco smoking\\n* Regular exercise\\n* Weight loss\\n* Healthy dietary patterns, such as the Mediterranean diet, low-carbohydrate diet, or DASH diet.'"
            ],
            "application/vnd.google.colaboratory.intrinsic+json": {
              "type": "string"
            }
          },
          "metadata": {},
          "execution_count": 161
        }
      ]
    }
  ]
}